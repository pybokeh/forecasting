{
 "cells": [
  {
   "cell_type": "markdown",
   "id": "50e42705-22a6-4c68-b2e3-1960b8422d41",
   "metadata": {},
   "source": [
    "# PURPOSE"
   ]
  },
  {
   "cell_type": "markdown",
   "id": "08257366-8742-4a01-82a7-6c0cf62760bc",
   "metadata": {},
   "source": [
    "Demonstrate the use of `weibullutils` package that I made to help facilitate preparing failure data for weibull failure forecasting and to also help facilitate making plots."
   ]
  },
  {
   "cell_type": "code",
   "execution_count": 1,
   "id": "c5c49d9d-47bc-43d3-ba40-c2579201516a",
   "metadata": {},
   "outputs": [],
   "source": [
    "from weibullutils import (\n",
    "    add_median_ranks,\n",
    "    weibull_params_linreg,\n",
    "    weibull_cdf_table,\n",
    "    weibull_mle_params,\n",
    "    plot_weibull_cdf,\n",
    "    plot_weibull_cdf_log_mrr,\n",
    "    plot_weibull_cdf_mrr,\n",
    "    plot_weibull_linreg,\n",
    ")\n",
    "import pandas as pd"
   ]
  },
  {
   "cell_type": "markdown",
   "id": "a4ee39e7-2861-4f70-a9ab-72dd1e30e776",
   "metadata": {},
   "source": [
    "### Obtain Sample Data"
   ]
  },
  {
   "cell_type": "markdown",
   "id": "b3e3bd4f-158b-4e87-8f77-716b55db24e3",
   "metadata": {},
   "source": [
    "Using pandas library, we will read in sample failure data.  The failure mode that we're interested in forecasting is \"Flair Failure\".  Therefore, other failure modes should be considered as suspensions or suspended units."
   ]
  },
  {
   "cell_type": "code",
   "execution_count": 2,
   "id": "e6f62548-b85a-4303-be60-f4ee7c78d448",
   "metadata": {},
   "outputs": [],
   "source": [
    "df = pd.read_csv('../data/rivet_failures_with_status.csv')"
   ]
  },
  {
   "cell_type": "code",
   "execution_count": 3,
   "id": "91653fe7-7b82-4c18-bded-b9bf07e4c588",
   "metadata": {},
   "outputs": [
    {
     "data": {
      "text/html": [
       "<div>\n",
       "<style scoped>\n",
       "    .dataframe tbody tr th:only-of-type {\n",
       "        vertical-align: middle;\n",
       "    }\n",
       "\n",
       "    .dataframe tbody tr th {\n",
       "        vertical-align: top;\n",
       "    }\n",
       "\n",
       "    .dataframe thead th {\n",
       "        text-align: right;\n",
       "    }\n",
       "</style>\n",
       "<table border=\"1\" class=\"dataframe\">\n",
       "  <thead>\n",
       "    <tr style=\"text-align: right;\">\n",
       "      <th></th>\n",
       "      <th>serial_number</th>\n",
       "      <th>failure_time_minutes</th>\n",
       "      <th>failure_mode</th>\n",
       "      <th>status</th>\n",
       "    </tr>\n",
       "  </thead>\n",
       "  <tbody>\n",
       "    <tr>\n",
       "      <th>0</th>\n",
       "      <td>1</td>\n",
       "      <td>90</td>\n",
       "      <td>Flair Failure</td>\n",
       "      <td>failed</td>\n",
       "    </tr>\n",
       "    <tr>\n",
       "      <th>1</th>\n",
       "      <td>2</td>\n",
       "      <td>96</td>\n",
       "      <td>Flair Failure</td>\n",
       "      <td>failed</td>\n",
       "    </tr>\n",
       "    <tr>\n",
       "      <th>2</th>\n",
       "      <td>3</td>\n",
       "      <td>100</td>\n",
       "      <td>Flair loosened</td>\n",
       "      <td>suspended</td>\n",
       "    </tr>\n",
       "    <tr>\n",
       "      <th>3</th>\n",
       "      <td>4</td>\n",
       "      <td>30</td>\n",
       "      <td>Flair Failure</td>\n",
       "      <td>failed</td>\n",
       "    </tr>\n",
       "    <tr>\n",
       "      <th>4</th>\n",
       "      <td>5</td>\n",
       "      <td>49</td>\n",
       "      <td>Flair Failure</td>\n",
       "      <td>failed</td>\n",
       "    </tr>\n",
       "    <tr>\n",
       "      <th>5</th>\n",
       "      <td>6</td>\n",
       "      <td>45</td>\n",
       "      <td>Flair loosened</td>\n",
       "      <td>suspended</td>\n",
       "    </tr>\n",
       "    <tr>\n",
       "      <th>6</th>\n",
       "      <td>7</td>\n",
       "      <td>10</td>\n",
       "      <td>Lug failed</td>\n",
       "      <td>suspended</td>\n",
       "    </tr>\n",
       "    <tr>\n",
       "      <th>7</th>\n",
       "      <td>8</td>\n",
       "      <td>82</td>\n",
       "      <td>Flair Failure</td>\n",
       "      <td>failed</td>\n",
       "    </tr>\n",
       "  </tbody>\n",
       "</table>\n",
       "</div>"
      ],
      "text/plain": [
       "   serial_number  failure_time_minutes    failure_mode     status\n",
       "0              1                    90   Flair Failure     failed\n",
       "1              2                    96   Flair Failure     failed\n",
       "2              3                   100  Flair loosened  suspended\n",
       "3              4                    30   Flair Failure     failed\n",
       "4              5                    49   Flair Failure     failed\n",
       "5              6                    45  Flair loosened  suspended\n",
       "6              7                    10      Lug failed  suspended\n",
       "7              8                    82   Flair Failure     failed"
      ]
     },
     "execution_count": 3,
     "metadata": {},
     "output_type": "execute_result"
    }
   ],
   "source": [
    "df"
   ]
  },
  {
   "cell_type": "markdown",
   "id": "24a9c2fc-8c41-4146-b8f1-752022eef24a",
   "metadata": {},
   "source": [
    "We have a total of 8 units.  5 of which had \"Flair Failure\" and 3 units failed with a different failure mode.  These 3 we would consider as \"suspension\" or \"suspended\" units."
   ]
  },
  {
   "cell_type": "markdown",
   "id": "a46e248c-7d9c-4686-84d9-3572334c8af0",
   "metadata": {},
   "source": [
    "### Calculate median rank for Weibull y-axis plotting positions"
   ]
  },
  {
   "cell_type": "markdown",
   "id": "3d3f987e-258a-4c05-b596-25d3ab962b70",
   "metadata": {},
   "source": [
    "Next, we need to calculate Bernard's median ranks to help determine Weibull plotting positions for the y-axis.  `weibullutils` package comes with a handly `add_median_ranks` function which will create the median ranks for us.  The formula for median rank is below:"
   ]
  },
  {
   "cell_type": "markdown",
   "id": "7403f74d-cdb1-4c3b-9e93-676896412831",
   "metadata": {},
   "source": [
    "<center>$\\huge{\\texttt{median rank} = \\frac{(rank - 0.3)}{(n + 0.4)}}$</center>"
   ]
  },
  {
   "cell_type": "markdown",
   "id": "3b9daca5-e385-4db7-83e4-55632ada75fc",
   "metadata": {},
   "source": [
    "But, the equation above only applies if we have complete failure data - meaning that we waited until all units have failed and failed with the failure mode that we're interested in.  However, if we didn't wait for all of our units to fail or the unit failed with a failure mode that is not of interest to us, then in these cases, these units are referred to as \"suspensions\".  Then we have to first calculate what are known as adjusted ranks.  We then use adjusted ranks for the `rank` used in the equation above.  The formula below is what we would use to calculate the adjusted rank:"
   ]
  },
  {
   "cell_type": "markdown",
   "id": "48fcf0b9-990d-4062-b156-05aed8eddc72",
   "metadata": {},
   "source": [
    "<center>$\\huge{\\texttt{Adjusted Rank} = \\frac{(\\texttt{Reverse Rank})(\\texttt{Previous Adjusted Rank})+(N+1)}{(\\texttt{Reverse Rank})+1}}$</center>"
   ]
  },
  {
   "cell_type": "markdown",
   "id": "86f2c64c-c5c9-4a3b-9c95-5b14da3fefdc",
   "metadata": {},
   "source": [
    "From the formula above, we see that we also need to have calcuated the reverse rank and keep track of the previous adjusted rank.  As previously mentioned, we would then use these adjusted ranks to calculate the median rank by replacing `rank` with `adjusted rank`:"
   ]
  },
  {
   "cell_type": "markdown",
   "id": "afe757e9-0032-4ff1-a20a-efc4ee98af9b",
   "metadata": {},
   "source": [
    "<center>$\\huge{\\texttt{median rank when accounting for suspensions} = \\frac{(\\texttt{adjusted rank} - 0.3)}{(n + 0.4)}}$</center>"
   ]
  },
  {
   "cell_type": "markdown",
   "id": "d6e01b90-030a-4d3e-b24d-666bf6d828b5",
   "metadata": {},
   "source": [
    "Steps to calculate the median rank when taking into account suspensions or suspended units:\n",
    "\n",
    "1. Sort data by failure time\n",
    "2. Create rank column\n",
    "3. Create reverse rank column\n",
    "4. Calculate adjusted rank as follows:\n",
    "   - if the unit is a suspension or suspended, then it is not assigned a median rank\n",
    "   - otherwise it is reverse rank times the previous adjusted rank (previous adjusted rank is zero for the first non-suspended unit) plus total # of units plus 1.  Then all of this divided by reverse rank plus 1:<br><br>\n",
    "$\\huge{\\frac{(\\texttt{Reverse Rank})(\\texttt{Previous Adjusted Rank})+(N+1)}{(\\texttt{Reverse Rank})+1}}$\n",
    "5. Calculate median rank with the adjusted ranks calculated in step 4:<br><br>\n",
    "$\\huge{\\frac{(\\texttt{adjusted rank} - 0.3)}{(n + 0.4)}}$"
   ]
  },
  {
   "cell_type": "markdown",
   "id": "c5cd456d-7f56-4e47-bb1f-37788606f45c",
   "metadata": {},
   "source": [
    "Fortunately, the `add_median_ranks` function found in the `weibullutils` package also calculates the rank, reverse rank, and adjusted rank for us and adds them to our data set, along with the median rank:"
   ]
  },
  {
   "cell_type": "code",
   "execution_count": 4,
   "id": "c60d3f6e-0fe2-485c-b14c-f2d421854fd2",
   "metadata": {},
   "outputs": [
    {
     "data": {
      "text/html": [
       "<div>\n",
       "<style scoped>\n",
       "    .dataframe tbody tr th:only-of-type {\n",
       "        vertical-align: middle;\n",
       "    }\n",
       "\n",
       "    .dataframe tbody tr th {\n",
       "        vertical-align: top;\n",
       "    }\n",
       "\n",
       "    .dataframe thead th {\n",
       "        text-align: right;\n",
       "    }\n",
       "</style>\n",
       "<table border=\"1\" class=\"dataframe\">\n",
       "  <thead>\n",
       "    <tr style=\"text-align: right;\">\n",
       "      <th></th>\n",
       "      <th>serial_number</th>\n",
       "      <th>failure_time_minutes</th>\n",
       "      <th>failure_mode</th>\n",
       "      <th>status</th>\n",
       "      <th>rank</th>\n",
       "      <th>reverse_rank</th>\n",
       "      <th>adjusted_rank</th>\n",
       "      <th>median_rank</th>\n",
       "    </tr>\n",
       "  </thead>\n",
       "  <tbody>\n",
       "    <tr>\n",
       "      <th>6</th>\n",
       "      <td>7</td>\n",
       "      <td>10</td>\n",
       "      <td>Lug failed</td>\n",
       "      <td>suspended</td>\n",
       "      <td>1</td>\n",
       "      <td>8</td>\n",
       "      <td>NaN</td>\n",
       "      <td>NaN</td>\n",
       "    </tr>\n",
       "    <tr>\n",
       "      <th>3</th>\n",
       "      <td>4</td>\n",
       "      <td>30</td>\n",
       "      <td>Flair Failure</td>\n",
       "      <td>failed</td>\n",
       "      <td>2</td>\n",
       "      <td>7</td>\n",
       "      <td>1.1250</td>\n",
       "      <td>0.098214</td>\n",
       "    </tr>\n",
       "    <tr>\n",
       "      <th>5</th>\n",
       "      <td>6</td>\n",
       "      <td>45</td>\n",
       "      <td>Flair loosened</td>\n",
       "      <td>suspended</td>\n",
       "      <td>3</td>\n",
       "      <td>6</td>\n",
       "      <td>NaN</td>\n",
       "      <td>NaN</td>\n",
       "    </tr>\n",
       "    <tr>\n",
       "      <th>4</th>\n",
       "      <td>5</td>\n",
       "      <td>49</td>\n",
       "      <td>Flair Failure</td>\n",
       "      <td>failed</td>\n",
       "      <td>4</td>\n",
       "      <td>5</td>\n",
       "      <td>2.4375</td>\n",
       "      <td>0.254464</td>\n",
       "    </tr>\n",
       "    <tr>\n",
       "      <th>7</th>\n",
       "      <td>8</td>\n",
       "      <td>82</td>\n",
       "      <td>Flair Failure</td>\n",
       "      <td>failed</td>\n",
       "      <td>5</td>\n",
       "      <td>4</td>\n",
       "      <td>3.7500</td>\n",
       "      <td>0.410714</td>\n",
       "    </tr>\n",
       "    <tr>\n",
       "      <th>0</th>\n",
       "      <td>1</td>\n",
       "      <td>90</td>\n",
       "      <td>Flair Failure</td>\n",
       "      <td>failed</td>\n",
       "      <td>6</td>\n",
       "      <td>3</td>\n",
       "      <td>5.0625</td>\n",
       "      <td>0.566964</td>\n",
       "    </tr>\n",
       "    <tr>\n",
       "      <th>1</th>\n",
       "      <td>2</td>\n",
       "      <td>96</td>\n",
       "      <td>Flair Failure</td>\n",
       "      <td>failed</td>\n",
       "      <td>7</td>\n",
       "      <td>2</td>\n",
       "      <td>6.3750</td>\n",
       "      <td>0.723214</td>\n",
       "    </tr>\n",
       "    <tr>\n",
       "      <th>2</th>\n",
       "      <td>3</td>\n",
       "      <td>100</td>\n",
       "      <td>Flair loosened</td>\n",
       "      <td>suspended</td>\n",
       "      <td>8</td>\n",
       "      <td>1</td>\n",
       "      <td>NaN</td>\n",
       "      <td>NaN</td>\n",
       "    </tr>\n",
       "  </tbody>\n",
       "</table>\n",
       "</div>"
      ],
      "text/plain": [
       "   serial_number  failure_time_minutes    failure_mode     status  rank  \\\n",
       "6              7                    10      Lug failed  suspended     1   \n",
       "3              4                    30   Flair Failure     failed     2   \n",
       "5              6                    45  Flair loosened  suspended     3   \n",
       "4              5                    49   Flair Failure     failed     4   \n",
       "7              8                    82   Flair Failure     failed     5   \n",
       "0              1                    90   Flair Failure     failed     6   \n",
       "1              2                    96   Flair Failure     failed     7   \n",
       "2              3                   100  Flair loosened  suspended     8   \n",
       "\n",
       "   reverse_rank  adjusted_rank  median_rank  \n",
       "6             8            NaN          NaN  \n",
       "3             7         1.1250     0.098214  \n",
       "5             6            NaN          NaN  \n",
       "4             5         2.4375     0.254464  \n",
       "7             4         3.7500     0.410714  \n",
       "0             3         5.0625     0.566964  \n",
       "1             2         6.3750     0.723214  \n",
       "2             1            NaN          NaN  "
      ]
     },
     "execution_count": 4,
     "metadata": {},
     "output_type": "execute_result"
    }
   ],
   "source": [
    "add_median_ranks(data=df, col_failure_time='failure_time_minutes', col_status='status')"
   ]
  },
  {
   "cell_type": "markdown",
   "id": "d59b9a15-51c8-4a94-9360-f644f8008d6f",
   "metadata": {},
   "source": [
    "From above, we see that the `add_median_ranks()` function created the additional columns that we need.  So let's save our results into an actual variable:"
   ]
  },
  {
   "cell_type": "code",
   "execution_count": 5,
   "id": "552758b0-ff0e-4bf3-8c4c-09b1bde273c7",
   "metadata": {},
   "outputs": [],
   "source": [
    "df_final = add_median_ranks(data=df, col_failure_time='failure_time_minutes', col_status='status')"
   ]
  },
  {
   "cell_type": "markdown",
   "id": "ae67647e-cd9b-4d27-812a-51f109f546f7",
   "metadata": {},
   "source": [
    "#### Let's look at our final data again"
   ]
  },
  {
   "cell_type": "code",
   "execution_count": 6,
   "id": "8c7a1bdb-84ad-4274-a59e-232665b2e6d3",
   "metadata": {},
   "outputs": [
    {
     "data": {
      "text/html": [
       "<div>\n",
       "<style scoped>\n",
       "    .dataframe tbody tr th:only-of-type {\n",
       "        vertical-align: middle;\n",
       "    }\n",
       "\n",
       "    .dataframe tbody tr th {\n",
       "        vertical-align: top;\n",
       "    }\n",
       "\n",
       "    .dataframe thead th {\n",
       "        text-align: right;\n",
       "    }\n",
       "</style>\n",
       "<table border=\"1\" class=\"dataframe\">\n",
       "  <thead>\n",
       "    <tr style=\"text-align: right;\">\n",
       "      <th></th>\n",
       "      <th>serial_number</th>\n",
       "      <th>failure_time_minutes</th>\n",
       "      <th>failure_mode</th>\n",
       "      <th>status</th>\n",
       "      <th>rank</th>\n",
       "      <th>reverse_rank</th>\n",
       "      <th>adjusted_rank</th>\n",
       "      <th>median_rank</th>\n",
       "    </tr>\n",
       "  </thead>\n",
       "  <tbody>\n",
       "    <tr>\n",
       "      <th>6</th>\n",
       "      <td>7</td>\n",
       "      <td>10</td>\n",
       "      <td>Lug failed</td>\n",
       "      <td>suspended</td>\n",
       "      <td>1</td>\n",
       "      <td>8</td>\n",
       "      <td>NaN</td>\n",
       "      <td>NaN</td>\n",
       "    </tr>\n",
       "    <tr>\n",
       "      <th>3</th>\n",
       "      <td>4</td>\n",
       "      <td>30</td>\n",
       "      <td>Flair Failure</td>\n",
       "      <td>failed</td>\n",
       "      <td>2</td>\n",
       "      <td>7</td>\n",
       "      <td>1.1250</td>\n",
       "      <td>0.098214</td>\n",
       "    </tr>\n",
       "    <tr>\n",
       "      <th>5</th>\n",
       "      <td>6</td>\n",
       "      <td>45</td>\n",
       "      <td>Flair loosened</td>\n",
       "      <td>suspended</td>\n",
       "      <td>3</td>\n",
       "      <td>6</td>\n",
       "      <td>NaN</td>\n",
       "      <td>NaN</td>\n",
       "    </tr>\n",
       "    <tr>\n",
       "      <th>4</th>\n",
       "      <td>5</td>\n",
       "      <td>49</td>\n",
       "      <td>Flair Failure</td>\n",
       "      <td>failed</td>\n",
       "      <td>4</td>\n",
       "      <td>5</td>\n",
       "      <td>2.4375</td>\n",
       "      <td>0.254464</td>\n",
       "    </tr>\n",
       "    <tr>\n",
       "      <th>7</th>\n",
       "      <td>8</td>\n",
       "      <td>82</td>\n",
       "      <td>Flair Failure</td>\n",
       "      <td>failed</td>\n",
       "      <td>5</td>\n",
       "      <td>4</td>\n",
       "      <td>3.7500</td>\n",
       "      <td>0.410714</td>\n",
       "    </tr>\n",
       "    <tr>\n",
       "      <th>0</th>\n",
       "      <td>1</td>\n",
       "      <td>90</td>\n",
       "      <td>Flair Failure</td>\n",
       "      <td>failed</td>\n",
       "      <td>6</td>\n",
       "      <td>3</td>\n",
       "      <td>5.0625</td>\n",
       "      <td>0.566964</td>\n",
       "    </tr>\n",
       "    <tr>\n",
       "      <th>1</th>\n",
       "      <td>2</td>\n",
       "      <td>96</td>\n",
       "      <td>Flair Failure</td>\n",
       "      <td>failed</td>\n",
       "      <td>7</td>\n",
       "      <td>2</td>\n",
       "      <td>6.3750</td>\n",
       "      <td>0.723214</td>\n",
       "    </tr>\n",
       "    <tr>\n",
       "      <th>2</th>\n",
       "      <td>3</td>\n",
       "      <td>100</td>\n",
       "      <td>Flair loosened</td>\n",
       "      <td>suspended</td>\n",
       "      <td>8</td>\n",
       "      <td>1</td>\n",
       "      <td>NaN</td>\n",
       "      <td>NaN</td>\n",
       "    </tr>\n",
       "  </tbody>\n",
       "</table>\n",
       "</div>"
      ],
      "text/plain": [
       "   serial_number  failure_time_minutes    failure_mode     status  rank  \\\n",
       "6              7                    10      Lug failed  suspended     1   \n",
       "3              4                    30   Flair Failure     failed     2   \n",
       "5              6                    45  Flair loosened  suspended     3   \n",
       "4              5                    49   Flair Failure     failed     4   \n",
       "7              8                    82   Flair Failure     failed     5   \n",
       "0              1                    90   Flair Failure     failed     6   \n",
       "1              2                    96   Flair Failure     failed     7   \n",
       "2              3                   100  Flair loosened  suspended     8   \n",
       "\n",
       "   reverse_rank  adjusted_rank  median_rank  \n",
       "6             8            NaN          NaN  \n",
       "3             7         1.1250     0.098214  \n",
       "5             6            NaN          NaN  \n",
       "4             5         2.4375     0.254464  \n",
       "7             4         3.7500     0.410714  \n",
       "0             3         5.0625     0.566964  \n",
       "1             2         6.3750     0.723214  \n",
       "2             1            NaN          NaN  "
      ]
     },
     "execution_count": 6,
     "metadata": {},
     "output_type": "execute_result"
    }
   ],
   "source": [
    "df_final"
   ]
  },
  {
   "cell_type": "markdown",
   "id": "bb432f8d-dc9e-4bfe-a7f7-e341fe9abb56",
   "metadata": {},
   "source": [
    "## Plot Failure Times and Apply Linear Regression"
   ]
  },
  {
   "cell_type": "markdown",
   "id": "8986bc37-2f3e-419f-a213-79522f6f8a86",
   "metadata": {},
   "source": [
    "Now let's plot our failure times and apply linear regression to generate the best fit line to come up with the Weibull shape and scale parameters"
   ]
  },
  {
   "cell_type": "code",
   "execution_count": 7,
   "id": "e71586d2-3e0b-48f4-9ab2-c7bfc9077f1c",
   "metadata": {},
   "outputs": [
    {
     "data": {
      "image/png": "[encoded data removed]",
      "text/plain": [
       "<Figure size 800x600 with 1 Axes>"
      ]
     },
     "metadata": {},
     "output_type": "display_data"
    }
   ],
   "source": [
    "plot_weibull_linreg(data=df_final, col_failure_time='failure_time_minutes', col_median_rank='median_rank')"
   ]
  },
  {
   "cell_type": "markdown",
   "id": "6078aa43-6aba-41c0-8e66-2b910eb490b4",
   "metadata": {},
   "source": [
    "We see a plot has been generated and that the R squared value, shape, and scale parameters have also been calculated."
   ]
  },
  {
   "cell_type": "markdown",
   "id": "33ec7bf4-40e9-4380-953c-f0091eb0fbf1",
   "metadata": {},
   "source": [
    "But we will use the `weibull_params_linreg()` function to obain those parameters and save them into a variable"
   ]
  },
  {
   "cell_type": "code",
   "execution_count": 8,
   "id": "497ac037-b0ae-49ff-b49b-832eb1c0e4cd",
   "metadata": {},
   "outputs": [],
   "source": [
    "weibull_params = weibull_params_linreg(data=df_final, col_failure_time='failure_time_minutes', col_median_rank='median_rank')"
   ]
  },
  {
   "cell_type": "markdown",
   "id": "eba77ef9-4858-408e-a62c-6a74a5394b63",
   "metadata": {},
   "source": [
    "Let's see what we have as parameters"
   ]
  },
  {
   "cell_type": "code",
   "execution_count": 9,
   "id": "13d60a3d-f659-4611-be9a-ec6267ce1eb8",
   "metadata": {},
   "outputs": [
    {
     "data": {
      "text/plain": [
       "(0.9531480836566851, 2.0242585543715985, 94.99794288911302)"
      ]
     },
     "execution_count": 9,
     "metadata": {},
     "output_type": "execute_result"
    }
   ],
   "source": [
    "weibull_params"
   ]
  },
  {
   "cell_type": "markdown",
   "id": "d8059fe5-98aa-428f-b3f9-57eae0b74f54",
   "metadata": {},
   "source": [
    "The first parameter is our R squared value, next is the shape parameter, then the scale parameter."
   ]
  },
  {
   "cell_type": "markdown",
   "id": "bbcbd138-00bf-471b-94fe-9486a2164b18",
   "metadata": {},
   "source": [
    "## Create Weibull Median Rank Regression (MRR) Probability Plot on Log Scale"
   ]
  },
  {
   "cell_type": "markdown",
   "id": "9012e826-7e45-45fe-bea8-6655ecaf48f7",
   "metadata": {},
   "source": [
    "Next, we'll use the `plot_weibull_cdf_log_mrr()` function to make our Weibull CDF plot on log scale using median rank regression (MRR)"
   ]
  },
  {
   "cell_type": "code",
   "execution_count": 10,
   "id": "d17327d9-c607-4b04-982f-2ac798de0705",
   "metadata": {},
   "outputs": [],
   "source": [
    "shape = weibull_params[1]\n",
    "scale = weibull_params[2]"
   ]
  },
  {
   "cell_type": "code",
   "execution_count": 11,
   "id": "de462dc6-b8b3-4469-bd43-327391a1242c",
   "metadata": {},
   "outputs": [
    {
     "data": {
      "image/png": "[encoded data removed]",
      "text/plain": [
       "<Figure size 800x600 with 1 Axes>"
      ]
     },
     "metadata": {},
     "output_type": "display_data"
    }
   ],
   "source": [
    "plot_weibull_cdf_log_mrr(\n",
    "    data=df_final,\n",
    "    col_failure_time='failure_time_minutes',\n",
    "    col_median_rank='median_rank',\n",
    "    shape=shape,\n",
    "    scale=scale\n",
    ")"
   ]
  },
  {
   "cell_type": "markdown",
   "id": "28ece2b5-ddf0-4254-accd-818b7422c4ad",
   "metadata": {},
   "source": [
    "#### We can also plot our Weibull CDF in non-log scale or normal, 1-to-1 scale using the `plot_weibull_cdf_mrr()` function"
   ]
  },
  {
   "cell_type": "code",
   "execution_count": 12,
   "id": "9b18cc11-14c0-4592-b742-b73e5493c9e5",
   "metadata": {},
   "outputs": [
    {
     "data": {
      "image/png": "[encoded data removed]",
      "text/plain": [
       "<Figure size 800x600 with 1 Axes>"
      ]
     },
     "metadata": {},
     "output_type": "display_data"
    }
   ],
   "source": [
    "plot_weibull_cdf_mrr(\n",
    "    data=df_final,\n",
    "    col_failure_time='failure_time_minutes',\n",
    "    col_median_rank='median_rank',\n",
    "    shape=shape,\n",
    "    scale=scale\n",
    ")"
   ]
  },
  {
   "cell_type": "markdown",
   "id": "10172894-9e68-48a6-92ce-2b3c452ceabd",
   "metadata": {},
   "source": [
    "But for making predictions, we need the actual raw values for the CDF.  This is where the `weibull_cdf_table()` comes in handy"
   ]
  },
  {
   "cell_type": "code",
   "execution_count": 13,
   "id": "8e7c95fb-9122-430d-996f-54e8304709ca",
   "metadata": {},
   "outputs": [],
   "source": [
    "weibull_cdf_predictions = weibull_cdf_table(shape=shape, scale=scale)"
   ]
  },
  {
   "cell_type": "code",
   "execution_count": 14,
   "id": "07f75f56-e12c-483a-8d2f-04e3e56d80b5",
   "metadata": {},
   "outputs": [
    {
     "data": {
      "text/html": [
       "<div>\n",
       "<style scoped>\n",
       "    .dataframe tbody tr th:only-of-type {\n",
       "        vertical-align: middle;\n",
       "    }\n",
       "\n",
       "    .dataframe tbody tr th {\n",
       "        vertical-align: top;\n",
       "    }\n",
       "\n",
       "    .dataframe thead th {\n",
       "        text-align: right;\n",
       "    }\n",
       "</style>\n",
       "<table border=\"1\" class=\"dataframe\">\n",
       "  <thead>\n",
       "    <tr style=\"text-align: right;\">\n",
       "      <th></th>\n",
       "      <th>x</th>\n",
       "      <th>cdf</th>\n",
       "    </tr>\n",
       "  </thead>\n",
       "  <tbody>\n",
       "    <tr>\n",
       "      <th>0</th>\n",
       "      <td>0.0</td>\n",
       "      <td>0.000000</td>\n",
       "    </tr>\n",
       "    <tr>\n",
       "      <th>1</th>\n",
       "      <td>1.0</td>\n",
       "      <td>0.000099</td>\n",
       "    </tr>\n",
       "    <tr>\n",
       "      <th>2</th>\n",
       "      <td>2.0</td>\n",
       "      <td>0.000404</td>\n",
       "    </tr>\n",
       "    <tr>\n",
       "      <th>3</th>\n",
       "      <td>3.0</td>\n",
       "      <td>0.000917</td>\n",
       "    </tr>\n",
       "    <tr>\n",
       "      <th>4</th>\n",
       "      <td>4.0</td>\n",
       "      <td>0.001640</td>\n",
       "    </tr>\n",
       "  </tbody>\n",
       "</table>\n",
       "</div>"
      ],
      "text/plain": [
       "     x       cdf\n",
       "0  0.0  0.000000\n",
       "1  1.0  0.000099\n",
       "2  2.0  0.000404\n",
       "3  3.0  0.000917\n",
       "4  4.0  0.001640"
      ]
     },
     "execution_count": 14,
     "metadata": {},
     "output_type": "execute_result"
    }
   ],
   "source": [
    "weibull_cdf_predictions.head()"
   ]
  },
  {
   "cell_type": "code",
   "execution_count": 15,
   "id": "7aeaa407-695f-434e-a5a1-60a05fbc4ffa",
   "metadata": {},
   "outputs": [
    {
     "data": {
      "text/html": [
       "<div>\n",
       "<style scoped>\n",
       "    .dataframe tbody tr th:only-of-type {\n",
       "        vertical-align: middle;\n",
       "    }\n",
       "\n",
       "    .dataframe tbody tr th {\n",
       "        vertical-align: top;\n",
       "    }\n",
       "\n",
       "    .dataframe thead th {\n",
       "        text-align: right;\n",
       "    }\n",
       "</style>\n",
       "<table border=\"1\" class=\"dataframe\">\n",
       "  <thead>\n",
       "    <tr style=\"text-align: right;\">\n",
       "      <th></th>\n",
       "      <th>x</th>\n",
       "      <th>cdf</th>\n",
       "    </tr>\n",
       "  </thead>\n",
       "  <tbody>\n",
       "    <tr>\n",
       "      <th>280</th>\n",
       "      <td>280.0</td>\n",
       "      <td>0.999866</td>\n",
       "    </tr>\n",
       "    <tr>\n",
       "      <th>281</th>\n",
       "      <td>281.0</td>\n",
       "      <td>0.999874</td>\n",
       "    </tr>\n",
       "    <tr>\n",
       "      <th>282</th>\n",
       "      <td>282.0</td>\n",
       "      <td>0.999882</td>\n",
       "    </tr>\n",
       "    <tr>\n",
       "      <th>283</th>\n",
       "      <td>283.0</td>\n",
       "      <td>0.999890</td>\n",
       "    </tr>\n",
       "    <tr>\n",
       "      <th>284</th>\n",
       "      <td>284.0</td>\n",
       "      <td>0.999897</td>\n",
       "    </tr>\n",
       "  </tbody>\n",
       "</table>\n",
       "</div>"
      ],
      "text/plain": [
       "         x       cdf\n",
       "280  280.0  0.999866\n",
       "281  281.0  0.999874\n",
       "282  282.0  0.999882\n",
       "283  283.0  0.999890\n",
       "284  284.0  0.999897"
      ]
     },
     "execution_count": 15,
     "metadata": {},
     "output_type": "execute_result"
    }
   ],
   "source": [
    "weibull_cdf_predictions.tail()"
   ]
  },
  {
   "cell_type": "markdown",
   "id": "84c70091-19e6-46bd-baab-62ce497c8ffa",
   "metadata": {},
   "source": [
    "#### So now, if someone were to ask me, what percentage of our units will have failed after 100 minutes, I can tell them with this table."
   ]
  },
  {
   "cell_type": "code",
   "execution_count": 16,
   "id": "3b68f47b-f998-46e6-8f68-23e79bd30cc4",
   "metadata": {},
   "outputs": [
    {
     "data": {
      "text/html": [
       "<div>\n",
       "<style scoped>\n",
       "    .dataframe tbody tr th:only-of-type {\n",
       "        vertical-align: middle;\n",
       "    }\n",
       "\n",
       "    .dataframe tbody tr th {\n",
       "        vertical-align: top;\n",
       "    }\n",
       "\n",
       "    .dataframe thead th {\n",
       "        text-align: right;\n",
       "    }\n",
       "</style>\n",
       "<table border=\"1\" class=\"dataframe\">\n",
       "  <thead>\n",
       "    <tr style=\"text-align: right;\">\n",
       "      <th></th>\n",
       "      <th>x</th>\n",
       "      <th>cdf</th>\n",
       "    </tr>\n",
       "  </thead>\n",
       "  <tbody>\n",
       "    <tr>\n",
       "      <th>100</th>\n",
       "      <td>100.0</td>\n",
       "      <td>0.670264</td>\n",
       "    </tr>\n",
       "  </tbody>\n",
       "</table>\n",
       "</div>"
      ],
      "text/plain": [
       "         x       cdf\n",
       "100  100.0  0.670264"
      ]
     },
     "execution_count": 16,
     "metadata": {},
     "output_type": "execute_result"
    }
   ],
   "source": [
    "weibull_cdf_predictions.query(\"x==100\")"
   ]
  },
  {
   "cell_type": "markdown",
   "id": "c7f9a157-a92d-45dd-a77c-48fe2289facd",
   "metadata": {},
   "source": [
    "#### The answer: 67% will have failed"
   ]
  },
  {
   "cell_type": "markdown",
   "id": "3d49e318-db29-4e9f-bb61-499dd30fdb80",
   "metadata": {},
   "source": [
    "## Obtaining Weibull MLE Estimates for Shape and Scale Parameters"
   ]
  },
  {
   "cell_type": "markdown",
   "id": "636ecb20-caf9-4370-837d-c2923ca56916",
   "metadata": {},
   "source": [
    "The `weibullutils` package also has the `weibull_mle_params()` method to obtain MLE estimates for the Weibull shape and scale parameters.  All we have to do is pass in our data set containing the failure times and their status."
   ]
  },
  {
   "cell_type": "markdown",
   "id": "c098699d-9fee-4813-9d48-e26cfc481a80",
   "metadata": {},
   "source": [
    "Below is our original data set:"
   ]
  },
  {
   "cell_type": "code",
   "execution_count": 17,
   "id": "f017bca0-ff9e-4222-ac52-2c74d75d5d8c",
   "metadata": {},
   "outputs": [
    {
     "data": {
      "text/html": [
       "<div>\n",
       "<style scoped>\n",
       "    .dataframe tbody tr th:only-of-type {\n",
       "        vertical-align: middle;\n",
       "    }\n",
       "\n",
       "    .dataframe tbody tr th {\n",
       "        vertical-align: top;\n",
       "    }\n",
       "\n",
       "    .dataframe thead th {\n",
       "        text-align: right;\n",
       "    }\n",
       "</style>\n",
       "<table border=\"1\" class=\"dataframe\">\n",
       "  <thead>\n",
       "    <tr style=\"text-align: right;\">\n",
       "      <th></th>\n",
       "      <th>serial_number</th>\n",
       "      <th>failure_time_minutes</th>\n",
       "      <th>failure_mode</th>\n",
       "      <th>status</th>\n",
       "    </tr>\n",
       "  </thead>\n",
       "  <tbody>\n",
       "    <tr>\n",
       "      <th>0</th>\n",
       "      <td>1</td>\n",
       "      <td>90</td>\n",
       "      <td>Flair Failure</td>\n",
       "      <td>failed</td>\n",
       "    </tr>\n",
       "    <tr>\n",
       "      <th>1</th>\n",
       "      <td>2</td>\n",
       "      <td>96</td>\n",
       "      <td>Flair Failure</td>\n",
       "      <td>failed</td>\n",
       "    </tr>\n",
       "    <tr>\n",
       "      <th>2</th>\n",
       "      <td>3</td>\n",
       "      <td>100</td>\n",
       "      <td>Flair loosened</td>\n",
       "      <td>suspended</td>\n",
       "    </tr>\n",
       "    <tr>\n",
       "      <th>3</th>\n",
       "      <td>4</td>\n",
       "      <td>30</td>\n",
       "      <td>Flair Failure</td>\n",
       "      <td>failed</td>\n",
       "    </tr>\n",
       "    <tr>\n",
       "      <th>4</th>\n",
       "      <td>5</td>\n",
       "      <td>49</td>\n",
       "      <td>Flair Failure</td>\n",
       "      <td>failed</td>\n",
       "    </tr>\n",
       "    <tr>\n",
       "      <th>5</th>\n",
       "      <td>6</td>\n",
       "      <td>45</td>\n",
       "      <td>Flair loosened</td>\n",
       "      <td>suspended</td>\n",
       "    </tr>\n",
       "    <tr>\n",
       "      <th>6</th>\n",
       "      <td>7</td>\n",
       "      <td>10</td>\n",
       "      <td>Lug failed</td>\n",
       "      <td>suspended</td>\n",
       "    </tr>\n",
       "    <tr>\n",
       "      <th>7</th>\n",
       "      <td>8</td>\n",
       "      <td>82</td>\n",
       "      <td>Flair Failure</td>\n",
       "      <td>failed</td>\n",
       "    </tr>\n",
       "  </tbody>\n",
       "</table>\n",
       "</div>"
      ],
      "text/plain": [
       "   serial_number  failure_time_minutes    failure_mode     status\n",
       "0              1                    90   Flair Failure     failed\n",
       "1              2                    96   Flair Failure     failed\n",
       "2              3                   100  Flair loosened  suspended\n",
       "3              4                    30   Flair Failure     failed\n",
       "4              5                    49   Flair Failure     failed\n",
       "5              6                    45  Flair loosened  suspended\n",
       "6              7                    10      Lug failed  suspended\n",
       "7              8                    82   Flair Failure     failed"
      ]
     },
     "execution_count": 17,
     "metadata": {},
     "output_type": "execute_result"
    }
   ],
   "source": [
    "df"
   ]
  },
  {
   "cell_type": "markdown",
   "id": "6197ae33-15aa-41c1-9376-cdde26c54040",
   "metadata": {},
   "source": [
    "#### Now let's use the `weibull_mle_params()` method"
   ]
  },
  {
   "cell_type": "code",
   "execution_count": 18,
   "id": "c54f42d2-0b5c-4559-8828-5c4a5ff55ee7",
   "metadata": {},
   "outputs": [
    {
     "data": {
      "text/plain": [
       "(3.0170185648841996,\n",
       " 87.9562918404288,\n",
       "           k        k_diff\n",
       " 0  2.399417           NaN\n",
       " 1  2.893253  4.938356e-01\n",
       " 2  3.011965  1.187120e-01\n",
       " 3  3.017010  5.045217e-03\n",
       " 4  3.017019  8.463143e-06\n",
       " 5  3.017019  2.374545e-11\n",
       " 6  3.017019 -5.773160e-15\n",
       " 7  3.017019  0.000000e+00\n",
       " 8  3.017019  0.000000e+00\n",
       " 9  3.017019  0.000000e+00)"
      ]
     },
     "execution_count": 18,
     "metadata": {},
     "output_type": "execute_result"
    }
   ],
   "source": [
    "weibull_mle_params(data=df, col_failure_time='failure_time_minutes', col_status='status')"
   ]
  },
  {
   "cell_type": "markdown",
   "id": "41715372-60eb-4bea-85de-dc3f91d18901",
   "metadata": {},
   "source": [
    "It returns 3 outputs:  The Weiubll shape MLE estimate, the Weibull scale MLE estimate, and the dataframe containing the shape values obtained using Newton-Raphson method where it eventually converged to our final k (shape) parameter."
   ]
  },
  {
   "cell_type": "code",
   "execution_count": 19,
   "id": "e8578814-9cd8-4d9b-ad11-bbee3f2ddd5d",
   "metadata": {},
   "outputs": [],
   "source": [
    "shape_mle, scale_mle, df_mle = weibull_mle_params(data=df, col_failure_time='failure_time_minutes', col_status='status')"
   ]
  },
  {
   "cell_type": "code",
   "execution_count": 20,
   "id": "a07af7b9-51bc-41ac-ad21-8041048e9203",
   "metadata": {},
   "outputs": [
    {
     "data": {
      "text/plain": [
       "3.0170185648841996"
      ]
     },
     "execution_count": 20,
     "metadata": {},
     "output_type": "execute_result"
    }
   ],
   "source": [
    "shape_mle"
   ]
  },
  {
   "cell_type": "code",
   "execution_count": 21,
   "id": "270ea6c2-3da3-40f4-ba98-6d4442e7ff3f",
   "metadata": {},
   "outputs": [
    {
     "data": {
      "text/plain": [
       "87.9562918404288"
      ]
     },
     "execution_count": 21,
     "metadata": {},
     "output_type": "execute_result"
    }
   ],
   "source": [
    "scale_mle"
   ]
  },
  {
   "cell_type": "code",
   "execution_count": 22,
   "id": "9412de59-3bca-48e2-ae50-a08b1d0ced7b",
   "metadata": {},
   "outputs": [
    {
     "data": {
      "text/html": [
       "<div>\n",
       "<style scoped>\n",
       "    .dataframe tbody tr th:only-of-type {\n",
       "        vertical-align: middle;\n",
       "    }\n",
       "\n",
       "    .dataframe tbody tr th {\n",
       "        vertical-align: top;\n",
       "    }\n",
       "\n",
       "    .dataframe thead th {\n",
       "        text-align: right;\n",
       "    }\n",
       "</style>\n",
       "<table border=\"1\" class=\"dataframe\">\n",
       "  <thead>\n",
       "    <tr style=\"text-align: right;\">\n",
       "      <th></th>\n",
       "      <th>k</th>\n",
       "      <th>k_diff</th>\n",
       "    </tr>\n",
       "  </thead>\n",
       "  <tbody>\n",
       "    <tr>\n",
       "      <th>0</th>\n",
       "      <td>2.399417</td>\n",
       "      <td>NaN</td>\n",
       "    </tr>\n",
       "    <tr>\n",
       "      <th>1</th>\n",
       "      <td>2.893253</td>\n",
       "      <td>4.938356e-01</td>\n",
       "    </tr>\n",
       "    <tr>\n",
       "      <th>2</th>\n",
       "      <td>3.011965</td>\n",
       "      <td>1.187120e-01</td>\n",
       "    </tr>\n",
       "    <tr>\n",
       "      <th>3</th>\n",
       "      <td>3.017010</td>\n",
       "      <td>5.045217e-03</td>\n",
       "    </tr>\n",
       "    <tr>\n",
       "      <th>4</th>\n",
       "      <td>3.017019</td>\n",
       "      <td>8.463143e-06</td>\n",
       "    </tr>\n",
       "    <tr>\n",
       "      <th>5</th>\n",
       "      <td>3.017019</td>\n",
       "      <td>2.374545e-11</td>\n",
       "    </tr>\n",
       "    <tr>\n",
       "      <th>6</th>\n",
       "      <td>3.017019</td>\n",
       "      <td>-5.773160e-15</td>\n",
       "    </tr>\n",
       "    <tr>\n",
       "      <th>7</th>\n",
       "      <td>3.017019</td>\n",
       "      <td>0.000000e+00</td>\n",
       "    </tr>\n",
       "    <tr>\n",
       "      <th>8</th>\n",
       "      <td>3.017019</td>\n",
       "      <td>0.000000e+00</td>\n",
       "    </tr>\n",
       "    <tr>\n",
       "      <th>9</th>\n",
       "      <td>3.017019</td>\n",
       "      <td>0.000000e+00</td>\n",
       "    </tr>\n",
       "  </tbody>\n",
       "</table>\n",
       "</div>"
      ],
      "text/plain": [
       "          k        k_diff\n",
       "0  2.399417           NaN\n",
       "1  2.893253  4.938356e-01\n",
       "2  3.011965  1.187120e-01\n",
       "3  3.017010  5.045217e-03\n",
       "4  3.017019  8.463143e-06\n",
       "5  3.017019  2.374545e-11\n",
       "6  3.017019 -5.773160e-15\n",
       "7  3.017019  0.000000e+00\n",
       "8  3.017019  0.000000e+00\n",
       "9  3.017019  0.000000e+00"
      ]
     },
     "execution_count": 22,
     "metadata": {},
     "output_type": "execute_result"
    }
   ],
   "source": [
    "df_mle"
   ]
  },
  {
   "cell_type": "markdown",
   "id": "7b859cd9-7e1e-4f84-ac8f-77daa8c421b5",
   "metadata": {},
   "source": [
    "#### Let's plot our CDF using the MLE parameters"
   ]
  },
  {
   "cell_type": "code",
   "execution_count": 23,
   "id": "1f7c680d-af90-4851-bdb3-22b3e7aa683a",
   "metadata": {},
   "outputs": [
    {
     "data": {
      "image/png": "[encoded data removed]",
      "text/plain": [
       "<Figure size 800x600 with 1 Axes>"
      ]
     },
     "metadata": {},
     "output_type": "display_data"
    }
   ],
   "source": [
    "plot_weibull_cdf(shape=shape_mle, scale=scale_mle)"
   ]
  },
  {
   "cell_type": "markdown",
   "id": "e618d125-41ea-4a24-bc6b-bd85a23d282c",
   "metadata": {},
   "source": [
    "#### Let's obtain the failure prediction after 100 minutes"
   ]
  },
  {
   "cell_type": "code",
   "execution_count": 24,
   "id": "ad628d59-c9d2-44a9-8ec2-9fa47a3a4874",
   "metadata": {},
   "outputs": [
    {
     "data": {
      "text/html": [
       "<div>\n",
       "<style scoped>\n",
       "    .dataframe tbody tr th:only-of-type {\n",
       "        vertical-align: middle;\n",
       "    }\n",
       "\n",
       "    .dataframe tbody tr th {\n",
       "        vertical-align: top;\n",
       "    }\n",
       "\n",
       "    .dataframe thead th {\n",
       "        text-align: right;\n",
       "    }\n",
       "</style>\n",
       "<table border=\"1\" class=\"dataframe\">\n",
       "  <thead>\n",
       "    <tr style=\"text-align: right;\">\n",
       "      <th></th>\n",
       "      <th>x</th>\n",
       "      <th>cdf</th>\n",
       "    </tr>\n",
       "  </thead>\n",
       "  <tbody>\n",
       "    <tr>\n",
       "      <th>100</th>\n",
       "      <td>100.0</td>\n",
       "      <td>0.770721</td>\n",
       "    </tr>\n",
       "  </tbody>\n",
       "</table>\n",
       "</div>"
      ],
      "text/plain": [
       "         x       cdf\n",
       "100  100.0  0.770721"
      ]
     },
     "execution_count": 24,
     "metadata": {},
     "output_type": "execute_result"
    }
   ],
   "source": [
    "weibull_cdf_table(shape=shape_mle, scale=scale_mle).query(\"x==100\")"
   ]
  },
  {
   "cell_type": "markdown",
   "id": "0f22a943-d484-4a2a-a84c-2b7d12a8f263",
   "metadata": {},
   "source": [
    "According to our MLE estimates, 77% of our units will fail after 100 minutes."
   ]
  }
 ],
 "metadata": {
  "kernelspec": {
   "display_name": "Py3.11 (eda_dev)",
   "language": "python",
   "name": "eda_dev"
  },
  "language_info": {
   "codemirror_mode": {
    "name": "ipython",
    "version": 3
   },
   "file_extension": ".py",
   "mimetype": "text/x-python",
   "name": "python",
   "nbconvert_exporter": "python",
   "pygments_lexer": "ipython3",
   "version": "3.11.5"
  }
 },
 "nbformat": 4,
 "nbformat_minor": 5
}
