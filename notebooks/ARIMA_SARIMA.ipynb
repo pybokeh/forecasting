{
 "cells": [
  {
   "cell_type": "raw",
   "id": "462ea106-aa90-4af8-9129-8a670e514502",
   "metadata": {},
   "source": [
    "---\n",
    "title: \"Time Series Forecasting using SARIMAX and pmdARIMA\"\n",
    "author: \"Daniel J. Kim\"\n",
    "format: \n",
    "  html:\n",
    "    theme: cosmo\n",
    "    code-fold: true\n",
    "    embed-resources: true\n",
    "    margin: 0px\n",
    "    page-layout: full\n",
    "jupyter: eda_dev\n",
    "---"
   ]
  },
  {
   "cell_type": "markdown",
   "id": "3919d332-93fc-41bc-8239-4a9b3190efb6",
   "metadata": {},
   "source": [
    "# Background"
   ]
  },
  {
   "cell_type": "markdown",
   "id": "065d1d4f-3791-44a3-95de-6bde27fca190",
   "metadata": {},
   "source": [
    "Example on how to perform time series forecasting using ARIMA (non-seasonal) or SARIMA (seasonal) models"
   ]
  },
  {
   "cell_type": "markdown",
   "id": "08b673e8-89d1-47ff-8fb0-1afff7a14564",
   "metadata": {},
   "source": [
    "#### Let's obtain example data sets"
   ]
  },
  {
   "cell_type": "code",
   "execution_count": 1,
   "id": "c68c0484-968d-4997-975d-5adc0c93b6a1",
   "metadata": {},
   "outputs": [],
   "source": [
    "from pandas import DataFrame     # used for type hinting\n",
    "from pmdarima import auto_arima\n",
    "from sklearn.metrics import mean_squared_error\n",
    "from typing import Iterable      # used for type hinting\n",
    "import matplotlib.pyplot as plt\n",
    "import numpy as np\n",
    "import pandas as pd\n",
    "import seaborn as sns"
   ]
  },
  {
   "cell_type": "markdown",
   "id": "8088f76c-0996-42be-baf8-b05d920eaf89",
   "metadata": {},
   "source": [
    "#### Seaborn library has some built-in sample data sets that we can obtain"
   ]
  },
  {
   "cell_type": "code",
   "execution_count": 2,
   "id": "0b296df4-5214-4b77-a36b-e23c1e9325ed",
   "metadata": {},
   "outputs": [
    {
     "data": {
      "text/plain": [
       "['anagrams',\n",
       " 'anscombe',\n",
       " 'attention',\n",
       " 'brain_networks',\n",
       " 'car_crashes',\n",
       " 'diamonds',\n",
       " 'dots',\n",
       " 'dowjones',\n",
       " 'exercise',\n",
       " 'flights',\n",
       " 'fmri',\n",
       " 'geyser',\n",
       " 'glue',\n",
       " 'healthexp',\n",
       " 'iris',\n",
       " 'mpg',\n",
       " 'penguins',\n",
       " 'planets',\n",
       " 'seaice',\n",
       " 'taxis',\n",
       " 'tips',\n",
       " 'titanic']"
      ]
     },
     "execution_count": 2,
     "metadata": {},
     "output_type": "execute_result"
    }
   ],
   "source": [
    "sns.get_dataset_names()"
   ]
  },
  {
   "cell_type": "markdown",
   "id": "0e55474b-b1c6-471b-8156-92e1c56a7f09",
   "metadata": {},
   "source": [
    "#### `flights` data set has seasonal trend, so let's go get it"
   ]
  },
  {
   "cell_type": "code",
   "execution_count": 20,
   "id": "1a1ef291-0f57-4407-a4d9-bc7dcdaee6a3",
   "metadata": {},
   "outputs": [
    {
     "data": {
      "text/html": [
       "<div>\n",
       "<style scoped>\n",
       "    .dataframe tbody tr th:only-of-type {\n",
       "        vertical-align: middle;\n",
       "    }\n",
       "\n",
       "    .dataframe tbody tr th {\n",
       "        vertical-align: top;\n",
       "    }\n",
       "\n",
       "    .dataframe thead th {\n",
       "        text-align: right;\n",
       "    }\n",
       "</style>\n",
       "<table border=\"1\" class=\"dataframe\">\n",
       "  <thead>\n",
       "    <tr style=\"text-align: right;\">\n",
       "      <th></th>\n",
       "      <th>year</th>\n",
       "      <th>month</th>\n",
       "      <th>passengers</th>\n",
       "    </tr>\n",
       "  </thead>\n",
       "  <tbody>\n",
       "    <tr>\n",
       "      <th>0</th>\n",
       "      <td>1949</td>\n",
       "      <td>Jan</td>\n",
       "      <td>112</td>\n",
       "    </tr>\n",
       "    <tr>\n",
       "      <th>1</th>\n",
       "      <td>1949</td>\n",
       "      <td>Feb</td>\n",
       "      <td>118</td>\n",
       "    </tr>\n",
       "    <tr>\n",
       "      <th>2</th>\n",
       "      <td>1949</td>\n",
       "      <td>Mar</td>\n",
       "      <td>132</td>\n",
       "    </tr>\n",
       "    <tr>\n",
       "      <th>3</th>\n",
       "      <td>1949</td>\n",
       "      <td>Apr</td>\n",
       "      <td>129</td>\n",
       "    </tr>\n",
       "    <tr>\n",
       "      <th>4</th>\n",
       "      <td>1949</td>\n",
       "      <td>May</td>\n",
       "      <td>121</td>\n",
       "    </tr>\n",
       "  </tbody>\n",
       "</table>\n",
       "</div>"
      ],
      "text/plain": [
       "   year month  passengers\n",
       "0  1949   Jan         112\n",
       "1  1949   Feb         118\n",
       "2  1949   Mar         132\n",
       "3  1949   Apr         129\n",
       "4  1949   May         121"
      ]
     },
     "execution_count": 20,
     "metadata": {},
     "output_type": "execute_result"
    }
   ],
   "source": [
    "# sns.load_dataset() returns a Pandas dataframe\n",
    "flights = sns.load_dataset('flights')\n",
    "flights.head()"
   ]
  },
  {
   "cell_type": "markdown",
   "id": "be8543d7-533a-405e-864c-0a52ad5eb288",
   "metadata": {},
   "source": [
    "## Data Prep Work"
   ]
  },
  {
   "cell_type": "markdown",
   "id": "049eaf0a-a328-4395-a256-1caaf74d661f",
   "metadata": {},
   "source": [
    "To perform time series forecasting with Python's time series libraries, they often require that the dates are actual date date type.  In its current form, our data set has year and month in separate columns, where year is an integer type and month is categorical data type:"
   ]
  },
  {
   "cell_type": "code",
   "execution_count": 4,
   "id": "77a9ab77-af4e-49a6-93a7-fbe877aa34ff",
   "metadata": {},
   "outputs": [
    {
     "data": {
      "text/plain": [
       "year             int64\n",
       "month         category\n",
       "passengers       int64\n",
       "dtype: object"
      ]
     },
     "execution_count": 4,
     "metadata": {},
     "output_type": "execute_result"
    }
   ],
   "source": [
    "flights.dtypes"
   ]
  },
  {
   "cell_type": "markdown",
   "id": "cb4bdebe-1bcc-45f6-9830-5e1f7110a109",
   "metadata": {},
   "source": [
    "So our data set lacks actual dates.  Therefore, we will need to do some data wrangling to create the desired date column.  We will perform the following data transformations:\n",
    "- Combine year, month, and '01' to create date values using string concatenation to create `year_month` column\n",
    "- After concatenation, the date values are in `str` data type, so we must still perform final step of converting string dates to actual date data type\n",
    "- Set the date as the dataframe index\n",
    "- Don't inclue the redundant year and month columns"
   ]
  },
  {
   "cell_type": "code",
   "execution_count": 21,
   "id": "03858933-a679-421f-a9eb-95a7eec3209b",
   "metadata": {},
   "outputs": [],
   "source": [
    "flights = flights.assign(\n",
    "    year_month=pd.to_datetime(\n",
    "        '01' + '-' + flights['month'].astype(str) + '-' + flights['year'].astype(str)\n",
    "    )\n",
    ").set_index('year_month')"
   ]
  },
  {
   "cell_type": "markdown",
   "id": "26fb8502-ee09-4b77-9665-347e9ae490c1",
   "metadata": {},
   "source": [
    "#### Now let's see what our sample data set looks like now"
   ]
  },
  {
   "cell_type": "code",
   "execution_count": 22,
   "id": "257db76c-cbd1-40e6-84bb-f4789a05a96a",
   "metadata": {},
   "outputs": [],
   "source": [
    "flights = flights[['passengers']]"
   ]
  },
  {
   "cell_type": "code",
   "execution_count": 23,
   "id": "cd3f7857-011c-4f63-8503-dda6f90be634",
   "metadata": {},
   "outputs": [
    {
     "data": {
      "text/html": [
       "<div>\n",
       "<style scoped>\n",
       "    .dataframe tbody tr th:only-of-type {\n",
       "        vertical-align: middle;\n",
       "    }\n",
       "\n",
       "    .dataframe tbody tr th {\n",
       "        vertical-align: top;\n",
       "    }\n",
       "\n",
       "    .dataframe thead th {\n",
       "        text-align: right;\n",
       "    }\n",
       "</style>\n",
       "<table border=\"1\" class=\"dataframe\">\n",
       "  <thead>\n",
       "    <tr style=\"text-align: right;\">\n",
       "      <th></th>\n",
       "      <th>passengers</th>\n",
       "    </tr>\n",
       "    <tr>\n",
       "      <th>year_month</th>\n",
       "      <th></th>\n",
       "    </tr>\n",
       "  </thead>\n",
       "  <tbody>\n",
       "    <tr>\n",
       "      <th>1949-01-01</th>\n",
       "      <td>112</td>\n",
       "    </tr>\n",
       "    <tr>\n",
       "      <th>1949-02-01</th>\n",
       "      <td>118</td>\n",
       "    </tr>\n",
       "    <tr>\n",
       "      <th>1949-03-01</th>\n",
       "      <td>132</td>\n",
       "    </tr>\n",
       "    <tr>\n",
       "      <th>1949-04-01</th>\n",
       "      <td>129</td>\n",
       "    </tr>\n",
       "    <tr>\n",
       "      <th>1949-05-01</th>\n",
       "      <td>121</td>\n",
       "    </tr>\n",
       "  </tbody>\n",
       "</table>\n",
       "</div>"
      ],
      "text/plain": [
       "            passengers\n",
       "year_month            \n",
       "1949-01-01         112\n",
       "1949-02-01         118\n",
       "1949-03-01         132\n",
       "1949-04-01         129\n",
       "1949-05-01         121"
      ]
     },
     "execution_count": 23,
     "metadata": {},
     "output_type": "execute_result"
    }
   ],
   "source": [
    "flights.head()"
   ]
  },
  {
   "cell_type": "markdown",
   "id": "8cd6a050-c8b7-45a3-b327-71787998690b",
   "metadata": {},
   "source": [
    "#### Let's also confirm the data type of year_month dataframe index"
   ]
  },
  {
   "cell_type": "code",
   "execution_count": 25,
   "id": "c4e030a7-82f4-4d34-b0f0-4e4fad8771d3",
   "metadata": {},
   "outputs": [
    {
     "data": {
      "text/plain": [
       "pandas.core.indexes.datetimes.DatetimeIndex"
      ]
     },
     "execution_count": 25,
     "metadata": {},
     "output_type": "execute_result"
    }
   ],
   "source": [
    "type(flights.index)"
   ]
  },
  {
   "cell_type": "markdown",
   "id": "86af137e-5e06-4450-b561-fdfdd2c1e96c",
   "metadata": {},
   "source": [
    "## Visualizing / Plotting the Data"
   ]
  },
  {
   "cell_type": "markdown",
   "id": "1582f7c3-9328-45f9-81b4-8d286fa54896",
   "metadata": {},
   "source": [
    "#### Let's plot the flight's monthly passenger counts"
   ]
  },
  {
   "cell_type": "code",
   "execution_count": 26,
   "id": "957dbba8-df0f-4c37-b7ae-dfc472a49a19",
   "metadata": {},
   "outputs": [
    {
     "data": {
      "image/png": "[encoded data removed]",
      "text/plain": [
       "<Figure size 640x480 with 1 Axes>"
      ]
     },
     "metadata": {},
     "output_type": "display_data"
    }
   ],
   "source": [
    "flights.plot(use_index=True, y='passengers')\n",
    "sns.despine()\n",
    "plt.grid(visible=True)\n",
    "plt.show()"
   ]
  },
  {
   "cell_type": "markdown",
   "id": "6117ff7f-6ab3-4a5b-b48a-50b5b30c7bca",
   "metadata": {},
   "source": [
    "#### Plot more granular / monthly chart"
   ]
  },
  {
   "cell_type": "markdown",
   "id": "3b9a8a28-cc87-4ffe-be56-0a89c34890d1",
   "metadata": {},
   "source": [
    "We suspect seasonality, so let's plot a portion or subset of data: a few years' worth of data so that we can visiblly see passenger counts at the monthly level and see where counts are spiking during similar months.  Let's plot 1957 thru 1959 years' worth of data:"
   ]
  },
  {
   "cell_type": "code",
   "execution_count": 33,
   "id": "18dfcf5d-4071-439a-a724-fc9d40a51343",
   "metadata": {},
   "outputs": [
    {
     "data": {
      "image/png": "[encoded data removed]",
      "text/plain": [
       "<Figure size 1000x500 with 1 Axes>"
      ]
     },
     "metadata": {},
     "output_type": "display_data"
    }
   ],
   "source": [
    "flights['1957':'1959'].plot(use_index=True, y='passengers', figsize=(10,5))\n",
    "plt.grid(which='both', visible=True)\n",
    "sns.despine()\n",
    "plt.show()"
   ]
  },
  {
   "cell_type": "markdown",
   "id": "fb11ad3e-b6b0-4cac-afc7-e0bdad082d48",
   "metadata": {},
   "source": [
    "#### Observations and Assumptions\n",
    "- There is upward trend\n",
    "- There is seasonality: rise in travel during summer months and end of the year\n",
    "- Data is most likely not stationary"
   ]
  },
  {
   "cell_type": "markdown",
   "id": "6c270dfc-fbea-4beb-8b28-45f39aee468a",
   "metadata": {},
   "source": [
    "# Testing for Stationarity"
   ]
  },
  {
   "cell_type": "markdown",
   "id": "73f138ca-fdb8-47c2-91b6-7a8a89241f82",
   "metadata": {},
   "source": [
    "- Augmented Dickey-Fuller (ADF) Test (non-visual method)\n",
    "- Rolling statistics (visual method)\n",
    "- Custom function that performs both ADF test and plots rolling statistics plots"
   ]
  },
  {
   "cell_type": "markdown",
   "id": "f5312985-21bc-428f-8d53-5c9b3158f689",
   "metadata": {},
   "source": [
    "#### ADF Test"
   ]
  },
  {
   "cell_type": "markdown",
   "id": "37ba3522-7a5d-4c30-9e19-3069ad631ca5",
   "metadata": {},
   "source": [
    "Python's `statsmodels` library includes the Augmented Dickey-Fuller (ADF) Test to test for stationarity"
   ]
  },
  {
   "cell_type": "code",
   "execution_count": 34,
   "id": "5d4f3068-2851-496e-80dc-ee089e6a3394",
   "metadata": {},
   "outputs": [],
   "source": [
    "from statsmodels.tsa.stattools import adfuller"
   ]
  },
  {
   "cell_type": "markdown",
   "id": "b16c372e-0b5f-4e2c-84fb-c2e1f3bfddeb",
   "metadata": {},
   "source": [
    "Some information about the adfuller function:"
   ]
  },
  {
   "cell_type": "code",
   "execution_count": 35,
   "id": "f0b4bf80-d9bd-4f9e-8a74-def7a1f131e7",
   "metadata": {},
   "outputs": [
    {
     "name": "stdout",
     "output_type": "stream",
     "text": [
      "Help on function adfuller in module statsmodels.tsa.stattools:\n",
      "\n",
      "adfuller(x, maxlag: 'int | None' = None, regression='c', autolag='AIC', store=False, regresults=False)\n",
      "    Augmented Dickey-Fuller unit root test.\n",
      "    \n",
      "    The Augmented Dickey-Fuller test can be used to test for a unit root in a\n",
      "    univariate process in the presence of serial correlation.\n",
      "    \n",
      "    Parameters\n",
      "    ----------\n",
      "    x : array_like, 1d\n",
      "        The data series to test.\n",
      "    maxlag : {None, int}\n",
      "        Maximum lag which is included in test, default value of\n",
      "        12*(nobs/100)^{1/4} is used when ``None``.\n",
      "    regression : {\"c\",\"ct\",\"ctt\",\"n\"}\n",
      "        Constant and trend order to include in regression.\n",
      "    \n",
      "        * \"c\" : constant only (default).\n",
      "        * \"ct\" : constant and trend.\n",
      "        * \"ctt\" : constant, and linear and quadratic trend.\n",
      "        * \"n\" : no constant, no trend.\n",
      "    \n",
      "    autolag : {\"AIC\", \"BIC\", \"t-stat\", None}\n",
      "        Method to use when automatically determining the lag length among the\n",
      "        values 0, 1, ..., maxlag.\n",
      "    \n",
      "        * If \"AIC\" (default) or \"BIC\", then the number of lags is chosen\n",
      "          to minimize the corresponding information criterion.\n",
      "        * \"t-stat\" based choice of maxlag.  Starts with maxlag and drops a\n",
      "          lag until the t-statistic on the last lag length is significant\n",
      "          using a 5%-sized test.\n",
      "        * If None, then the number of included lags is set to maxlag.\n",
      "    store : bool\n",
      "        If True, then a result instance is returned additionally to\n",
      "        the adf statistic. Default is False.\n",
      "    regresults : bool, optional\n",
      "        If True, the full regression results are returned. Default is False.\n",
      "    \n",
      "    Returns\n",
      "    -------\n",
      "    adf : float\n",
      "        The test statistic.\n",
      "    pvalue : float\n",
      "        MacKinnon's approximate p-value based on MacKinnon (1994, 2010).\n",
      "    usedlag : int\n",
      "        The number of lags used.\n",
      "    nobs : int\n",
      "        The number of observations used for the ADF regression and calculation\n",
      "        of the critical values.\n",
      "    critical values : dict\n",
      "        Critical values for the test statistic at the 1 %, 5 %, and 10 %\n",
      "        levels. Based on MacKinnon (2010).\n",
      "    icbest : float\n",
      "        The maximized information criterion if autolag is not None.\n",
      "    resstore : ResultStore, optional\n",
      "        A dummy class with results attached as attributes.\n",
      "    \n",
      "    Notes\n",
      "    -----\n",
      "    The null hypothesis of the Augmented Dickey-Fuller is that there is a unit\n",
      "    root, with the alternative that there is no unit root. If the pvalue is\n",
      "    above a critical size, then we cannot reject that there is a unit root.\n",
      "    \n",
      "    The p-values are obtained through regression surface approximation from\n",
      "    MacKinnon 1994, but using the updated 2010 tables. If the p-value is close\n",
      "    to significant, then the critical values should be used to judge whether\n",
      "    to reject the null.\n",
      "    \n",
      "    The autolag option and maxlag for it are described in Greene.\n",
      "    \n",
      "    See the notebook `Stationarity and detrending (ADF/KPSS)\n",
      "    <../examples/notebooks/generated/stationarity_detrending_adf_kpss.html>`__\n",
      "    for an overview.\n",
      "    \n",
      "    References\n",
      "    ----------\n",
      "    .. [1] W. Green.  \"Econometric Analysis,\" 5th ed., Pearson, 2003.\n",
      "    \n",
      "    .. [2] Hamilton, J.D.  \"Time Series Analysis\".  Princeton, 1994.\n",
      "    \n",
      "    .. [3] MacKinnon, J.G. 1994.  \"Approximate asymptotic distribution functions for\n",
      "        unit-root and cointegration tests.  `Journal of Business and Economic\n",
      "        Statistics` 12, 167-76.\n",
      "    \n",
      "    .. [4] MacKinnon, J.G. 2010. \"Critical Values for Cointegration Tests.\"  Queen\"s\n",
      "        University, Dept of Economics, Working Papers.  Available at\n",
      "        http://ideas.repec.org/p/qed/wpaper/1227.html\n",
      "\n"
     ]
    }
   ],
   "source": [
    "help(adfuller)"
   ]
  },
  {
   "cell_type": "markdown",
   "id": "bdd8e694-fbca-4f10-a549-8642458c4fb9",
   "metadata": {},
   "source": [
    "Let's pass in or provide the passengers count to this adfuller() function and see what happens:"
   ]
  },
  {
   "cell_type": "code",
   "execution_count": 36,
   "id": "a6443b41-5112-42f7-8988-99615511e0a2",
   "metadata": {},
   "outputs": [
    {
     "data": {
      "text/plain": [
       "(0.8153688792060352,\n",
       " 0.9918802434376408,\n",
       " 13,\n",
       " 130,\n",
       " {'1%': -3.4816817173418295,\n",
       "  '5%': -2.8840418343195267,\n",
       "  '10%': -2.578770059171598},\n",
       " 996.692930839019)"
      ]
     },
     "execution_count": 36,
     "metadata": {},
     "output_type": "execute_result"
    }
   ],
   "source": [
    "adfuller(flights['passengers'])"
   ]
  },
  {
   "cell_type": "markdown",
   "id": "83dcfdd5-7f62-4cd1-8878-68091ea1078d",
   "metadata": {},
   "source": [
    "From above, we can see the output is not very informative and we would have to refer to the built-in documentation to determine what those outputs correspond to.  Instead, we will create a custom function that will present the results in a more user-friendly and informative manner."
   ]
  },
  {
   "cell_type": "code",
   "execution_count": 37,
   "id": "5e876076-23f4-475c-b775-2d65bf8de67e",
   "metadata": {},
   "outputs": [],
   "source": [
    "def adfuller_test(data: Iterable):\n",
    "    \"\"\"\n",
    "    Function to output the ADF test statistics in a more informative, user-friendly manner\n",
    "\n",
    "    Parameters\n",
    "    ----------\n",
    "    data : Iterable / sequence type\n",
    "        - Data that we want to test for stationarity\n",
    "\n",
    "    Returns\n",
    "    -------\n",
    "    ADF test statistics in a more informative, user-friendly manner\n",
    "    \"\"\"\n",
    "    \n",
    "    result=adfuller(data.dropna())\n",
    "    labels = ['ADF Test Statistic','p-value','#Lags Used','Number of Observations Used', 'Critical Values']\n",
    "    for value,label in zip(result,labels):\n",
    "        print(f'{label} : {str(value)}')\n",
    "    if result[1] <= 0.05:\n",
    "        print(\"Strong evidence to reject the null hypothesis that data is non-stationary.  Therefore, data is most likely stationary.\")\n",
    "    else:\n",
    "        print(\"Weak evidence against null hypothesis.  Therefore, data is most likely non-stationary\")"
   ]
  },
  {
   "cell_type": "markdown",
   "id": "e340c9ba-b43a-4580-baf5-84226662e44c",
   "metadata": {},
   "source": [
    "#### Now let's use our custom function"
   ]
  },
  {
   "cell_type": "code",
   "execution_count": 38,
   "id": "28116b8e-48e9-4def-82ad-7e8800d188c1",
   "metadata": {},
   "outputs": [
    {
     "name": "stdout",
     "output_type": "stream",
     "text": [
      "ADF Test Statistic : 0.8153688792060352\n",
      "p-value : 0.9918802434376408\n",
      "#Lags Used : 13\n",
      "Number of Observations Used : 130\n",
      "Critical Values : {'1%': -3.4816817173418295, '5%': -2.8840418343195267, '10%': -2.578770059171598}\n",
      "Weak evidence against null hypothesis.  Therefore, data is most likely non-stationary\n"
     ]
    }
   ],
   "source": [
    "adfuller_test(flights['passengers'])"
   ]
  },
  {
   "cell_type": "markdown",
   "id": "569cc3a1-9b7f-48ec-9a2d-209b6e461256",
   "metadata": {},
   "source": [
    "From the output above, we see this is more informative and user-friendly."
   ]
  },
  {
   "cell_type": "markdown",
   "id": "2d95f9f0-d2df-410a-88e0-9147a1e99cfe",
   "metadata": {},
   "source": [
    "#### Rolling Statistics to test for stationarity (visual method)"
   ]
  },
  {
   "cell_type": "markdown",
   "id": "fe3a57ef-d0e4-4914-8de1-e201c597ad92",
   "metadata": {},
   "source": [
    "Another way to test for stationarity is to see if there is upward/downward trend or if the variance is not steady or random by visually inspecting plots of rolling mean and rolling standard deviation."
   ]
  },
  {
   "cell_type": "markdown",
   "id": "bdb25376-d1f4-4810-a774-0ba1a96c8d54",
   "metadata": {},
   "source": [
    "#### Let's create new columns containing rolling mean and rolling standard deviation with a 12-month window"
   ]
  },
  {
   "cell_type": "code",
   "execution_count": 39,
   "id": "b0bb1beb-d63d-4a04-807b-b4c031a5cf32",
   "metadata": {},
   "outputs": [],
   "source": [
    "flights = flights.assign(rolling_mean=flights['passengers'].rolling(window=12).mean())\n",
    "flights = flights.assign(rolling_std_dev=flights['passengers'].rolling(window=12).std())            "
   ]
  },
  {
   "cell_type": "code",
   "execution_count": 40,
   "id": "a071b14a-9dc2-4c67-8b00-250b18e2e440",
   "metadata": {},
   "outputs": [
    {
     "data": {
      "text/html": [
       "<div>\n",
       "<style scoped>\n",
       "    .dataframe tbody tr th:only-of-type {\n",
       "        vertical-align: middle;\n",
       "    }\n",
       "\n",
       "    .dataframe tbody tr th {\n",
       "        vertical-align: top;\n",
       "    }\n",
       "\n",
       "    .dataframe thead th {\n",
       "        text-align: right;\n",
       "    }\n",
       "</style>\n",
       "<table border=\"1\" class=\"dataframe\">\n",
       "  <thead>\n",
       "    <tr style=\"text-align: right;\">\n",
       "      <th></th>\n",
       "      <th>passengers</th>\n",
       "      <th>rolling_mean</th>\n",
       "      <th>rolling_std_dev</th>\n",
       "    </tr>\n",
       "    <tr>\n",
       "      <th>year_month</th>\n",
       "      <th></th>\n",
       "      <th></th>\n",
       "      <th></th>\n",
       "    </tr>\n",
       "  </thead>\n",
       "  <tbody>\n",
       "    <tr>\n",
       "      <th>1949-01-01</th>\n",
       "      <td>112</td>\n",
       "      <td>NaN</td>\n",
       "      <td>NaN</td>\n",
       "    </tr>\n",
       "    <tr>\n",
       "      <th>1949-02-01</th>\n",
       "      <td>118</td>\n",
       "      <td>NaN</td>\n",
       "      <td>NaN</td>\n",
       "    </tr>\n",
       "    <tr>\n",
       "      <th>1949-03-01</th>\n",
       "      <td>132</td>\n",
       "      <td>NaN</td>\n",
       "      <td>NaN</td>\n",
       "    </tr>\n",
       "    <tr>\n",
       "      <th>1949-04-01</th>\n",
       "      <td>129</td>\n",
       "      <td>NaN</td>\n",
       "      <td>NaN</td>\n",
       "    </tr>\n",
       "    <tr>\n",
       "      <th>1949-05-01</th>\n",
       "      <td>121</td>\n",
       "      <td>NaN</td>\n",
       "      <td>NaN</td>\n",
       "    </tr>\n",
       "    <tr>\n",
       "      <th>1949-06-01</th>\n",
       "      <td>135</td>\n",
       "      <td>NaN</td>\n",
       "      <td>NaN</td>\n",
       "    </tr>\n",
       "    <tr>\n",
       "      <th>1949-07-01</th>\n",
       "      <td>148</td>\n",
       "      <td>NaN</td>\n",
       "      <td>NaN</td>\n",
       "    </tr>\n",
       "    <tr>\n",
       "      <th>1949-08-01</th>\n",
       "      <td>148</td>\n",
       "      <td>NaN</td>\n",
       "      <td>NaN</td>\n",
       "    </tr>\n",
       "    <tr>\n",
       "      <th>1949-09-01</th>\n",
       "      <td>136</td>\n",
       "      <td>NaN</td>\n",
       "      <td>NaN</td>\n",
       "    </tr>\n",
       "    <tr>\n",
       "      <th>1949-10-01</th>\n",
       "      <td>119</td>\n",
       "      <td>NaN</td>\n",
       "      <td>NaN</td>\n",
       "    </tr>\n",
       "    <tr>\n",
       "      <th>1949-11-01</th>\n",
       "      <td>104</td>\n",
       "      <td>NaN</td>\n",
       "      <td>NaN</td>\n",
       "    </tr>\n",
       "    <tr>\n",
       "      <th>1949-12-01</th>\n",
       "      <td>118</td>\n",
       "      <td>126.666667</td>\n",
       "      <td>13.720147</td>\n",
       "    </tr>\n",
       "    <tr>\n",
       "      <th>1950-01-01</th>\n",
       "      <td>115</td>\n",
       "      <td>126.916667</td>\n",
       "      <td>13.453342</td>\n",
       "    </tr>\n",
       "    <tr>\n",
       "      <th>1950-02-01</th>\n",
       "      <td>126</td>\n",
       "      <td>127.583333</td>\n",
       "      <td>13.166475</td>\n",
       "    </tr>\n",
       "    <tr>\n",
       "      <th>1950-03-01</th>\n",
       "      <td>141</td>\n",
       "      <td>128.333333</td>\n",
       "      <td>13.686977</td>\n",
       "    </tr>\n",
       "  </tbody>\n",
       "</table>\n",
       "</div>"
      ],
      "text/plain": [
       "            passengers  rolling_mean  rolling_std_dev\n",
       "year_month                                           \n",
       "1949-01-01         112           NaN              NaN\n",
       "1949-02-01         118           NaN              NaN\n",
       "1949-03-01         132           NaN              NaN\n",
       "1949-04-01         129           NaN              NaN\n",
       "1949-05-01         121           NaN              NaN\n",
       "1949-06-01         135           NaN              NaN\n",
       "1949-07-01         148           NaN              NaN\n",
       "1949-08-01         148           NaN              NaN\n",
       "1949-09-01         136           NaN              NaN\n",
       "1949-10-01         119           NaN              NaN\n",
       "1949-11-01         104           NaN              NaN\n",
       "1949-12-01         118    126.666667        13.720147\n",
       "1950-01-01         115    126.916667        13.453342\n",
       "1950-02-01         126    127.583333        13.166475\n",
       "1950-03-01         141    128.333333        13.686977"
      ]
     },
     "execution_count": 40,
     "metadata": {},
     "output_type": "execute_result"
    }
   ],
   "source": [
    "flights.head(n=15)"
   ]
  },
  {
   "cell_type": "markdown",
   "id": "e2a8ad1d-11cc-4382-83a2-b22ae122fbf1",
   "metadata": {},
   "source": [
    "#### Now let's plot the passenger counts, rolling mean, and rolling standard deviation with a 12-month window"
   ]
  },
  {
   "cell_type": "code",
   "execution_count": 42,
   "id": "2305a437-5359-454f-ba39-ab419c3aef02",
   "metadata": {},
   "outputs": [
    {
     "data": {
      "image/png": "[encoded data removed]",
      "text/plain": [
       "<Figure size 640x480 with 1 Axes>"
      ]
     },
     "metadata": {},
     "output_type": "display_data"
    }
   ],
   "source": [
    "sns.lineplot(data=flights, x=flights.index, y='passengers', label='passengers')\n",
    "sns.lineplot(data=flights, x=flights.index, y=flights['passengers'].rolling(window=12).mean(), label='rolling mean')\n",
    "sns.lineplot(data=flights, x=flights.index, y=flights['passengers'].rolling(window=12).std(), label='rolling std dev')\n",
    "sns.despine()\n",
    "plt.grid(visible=True)\n",
    "plt.show()"
   ]
  },
  {
   "cell_type": "markdown",
   "id": "94553ff8-cfc9-4834-9298-c39735f47aa3",
   "metadata": {},
   "source": [
    "From above, we see that the rolling mean and standard deviation are not random: both rolling mean and standard deviation are increasing"
   ]
  },
  {
   "cell_type": "markdown",
   "id": "39a14424-0042-4934-88cf-1e7bd24c2940",
   "metadata": {},
   "source": [
    "#### Let's modify our custom function to provide both ADF test and rolling statistics plots"
   ]
  },
  {
   "cell_type": "markdown",
   "id": "486ef5a1-dd61-4e1a-8ab6-de7e42fe5175",
   "metadata": {},
   "source": [
    "NOTE: This custom function won't create rolling mean / standard deviation columns - will keep the data in its original form"
   ]
  },
  {
   "cell_type": "code",
   "execution_count": 43,
   "id": "673c975b-9701-4a15-9bbe-7cd896393840",
   "metadata": {},
   "outputs": [],
   "source": [
    "def adfuller_test(data: DataFrame, y: str, window: int):\n",
    "    \"\"\"\n",
    "    Function to output the ADF test statistics in a more informative, user-friendly manner\n",
    "    and also plots rolling mean and standard deviation with the specified window size\n",
    "\n",
    "    Parameters\n",
    "    ----------\n",
    "    data : Pandas dataframe\n",
    "        - dataframe that has the data we want to check for stationarity\n",
    "    y : str\n",
    "        - y value that we want to perform the ADF test on and also the y value to plot\n",
    "    window: int\n",
    "        - the window size for the rolling statistics\n",
    "\n",
    "    Returns\n",
    "    -------\n",
    "    ADF test statistics in a more informative, user-friendly manner and rolling statistics plots\n",
    "    \"\"\"\n",
    "\n",
    "    result=adfuller(data.dropna()[y])\n",
    "    labels = ['ADF Test Statistic','p-value','#Lags Used','Number of Observations Used', 'Critical Values']\n",
    "    for value,label in zip(result,labels):\n",
    "        print(f'{label} : {str(value)}')\n",
    "\n",
    "    print(\"H\\u2080/null hypothesis: Data is non-stationary\")\n",
    "    \n",
    "    # result[1] is the p-value\n",
    "    if result[1] <= 0.05:\n",
    "        print('\\n')\n",
    "        print(\"Strong evidence to reject the null hypothesis that data is non-stationary.  Therefore, data is most likely stationary.\")\n",
    "    else:\n",
    "        print('\\n')\n",
    "        print(\"Weak evidence against null hypothesis.  Therefore, data is most likely non-stationary\")\n",
    "\n",
    "    print('\\n\\n')\n",
    "    print(f'Plots of rolling mean and standard deviation with window = {window}')\n",
    "\n",
    "    sns.lineplot(data=data, x=data.index, y=y, label=y)\n",
    "    sns.lineplot(data=data, x=data.index, y=data[y].rolling(window=window).mean(), label='rolling mean')\n",
    "    sns.lineplot(data=data, x=data.index, y=data[y].rolling(window=window).std(), label='rolling std dev')\n",
    "    sns.despine()\n",
    "    plt.grid(visible=True)\n",
    "    plt.show()"
   ]
  },
  {
   "cell_type": "code",
   "execution_count": null,
   "id": "88b6a6e2-5ea5-43b2-8888-8d5da2b365a7",
   "metadata": {},
   "outputs": [],
   "source": [
    "help(adfuller_test)"
   ]
  },
  {
   "cell_type": "code",
   "execution_count": 44,
   "id": "04f71eb7-5d39-40ca-ad54-21f20110ce08",
   "metadata": {},
   "outputs": [
    {
     "name": "stdout",
     "output_type": "stream",
     "text": [
      "ADF Test Statistic : 0.6915787403700747\n",
      "p-value : 0.9896683018995455\n",
      "#Lags Used : 13\n",
      "Number of Observations Used : 119\n",
      "Critical Values : {'1%': -3.4865346059036564, '5%': -2.8861509858476264, '10%': -2.579896092790057}\n",
      "H₀/null hypothesis: Data is non-stationary\n",
      "\n",
      "\n",
      "Weak evidence against null hypothesis.  Therefore, data is most likely non-stationary\n",
      "\n",
      "\n",
      "\n",
      "Plots of rolling mean and standard deviation with window = 12\n"
     ]
    },
    {
     "data": {
      "image/png": "[encoded data removed]",
      "text/plain": [
       "<Figure size 640x480 with 1 Axes>"
      ]
     },
     "metadata": {},
     "output_type": "display_data"
    }
   ],
   "source": [
    "adfuller_test(flights, y='passengers', window=12)"
   ]
  },
  {
   "cell_type": "markdown",
   "id": "f8a8de91-94ae-4bf2-b9e2-73c8d4ff7ad9",
   "metadata": {},
   "source": [
    "So now we see our data is not stationary.  Now what?  Our next course of action is to make the data stationary."
   ]
  },
  {
   "cell_type": "code",
   "execution_count": 45,
   "id": "f7b3e852-d895-4e53-93aa-fb28a7f315bd",
   "metadata": {},
   "outputs": [
    {
     "name": "stdout",
     "output_type": "stream",
     "text": [
      "Performing stepwise search to minimize aic\n",
      " ARIMA(2,1,2)(1,1,1)[12]             : AIC=1020.048, Time=1.57 sec\n",
      " ARIMA(0,1,0)(0,1,0)[12]             : AIC=1031.508, Time=0.05 sec\n",
      " ARIMA(1,1,0)(1,1,0)[12]             : AIC=1020.393, Time=0.17 sec\n",
      " ARIMA(0,1,1)(0,1,1)[12]             : AIC=1021.003, Time=0.26 sec\n",
      " ARIMA(2,1,2)(0,1,1)[12]             : AIC=1019.935, Time=0.93 sec\n",
      " ARIMA(2,1,2)(0,1,0)[12]             : AIC=1019.290, Time=0.30 sec\n",
      " ARIMA(2,1,2)(1,1,0)[12]             : AIC=1019.546, Time=0.87 sec\n",
      " ARIMA(1,1,2)(0,1,0)[12]             : AIC=1024.160, Time=0.14 sec\n",
      " ARIMA(2,1,1)(0,1,0)[12]             : AIC=1017.847, Time=0.26 sec\n",
      " ARIMA(2,1,1)(1,1,0)[12]             : AIC=1017.914, Time=0.72 sec\n",
      " ARIMA(2,1,1)(0,1,1)[12]             : AIC=1018.359, Time=0.72 sec\n",
      " ARIMA(2,1,1)(1,1,1)[12]             : AIC=1018.248, Time=1.47 sec\n",
      " ARIMA(1,1,1)(0,1,0)[12]             : AIC=1022.393, Time=0.12 sec\n",
      " ARIMA(2,1,0)(0,1,0)[12]             : AIC=1022.393, Time=0.11 sec\n",
      " ARIMA(3,1,1)(0,1,0)[12]             : AIC=1019.084, Time=0.25 sec\n",
      " ARIMA(1,1,0)(0,1,0)[12]             : AIC=1020.393, Time=0.07 sec\n",
      " ARIMA(3,1,0)(0,1,0)[12]             : AIC=1023.666, Time=0.12 sec\n",
      " ARIMA(3,1,2)(0,1,0)[12]             : AIC=1021.083, Time=0.38 sec\n",
      " ARIMA(2,1,1)(0,1,0)[12] intercept   : AIC=inf, Time=0.59 sec\n",
      "\n",
      "Best model:  ARIMA(2,1,1)(0,1,0)[12]          \n",
      "Total fit time: 9.194 seconds\n"
     ]
    },
    {
     "data": {
      "text/html": [
       "<table class=\"simpletable\">\n",
       "<caption>SARIMAX Results</caption>\n",
       "<tr>\n",
       "  <th>Dep. Variable:</th>                  <td>y</td>                <th>  No. Observations:  </th>    <td>144</td>  \n",
       "</tr>\n",
       "<tr>\n",
       "  <th>Model:</th>           <td>SARIMAX(2, 1, 1)x(0, 1, [], 12)</td> <th>  Log Likelihood     </th> <td>-504.923</td>\n",
       "</tr>\n",
       "<tr>\n",
       "  <th>Date:</th>                   <td>Sat, 30 Sep 2023</td>         <th>  AIC                </th> <td>1017.847</td>\n",
       "</tr>\n",
       "<tr>\n",
       "  <th>Time:</th>                       <td>10:58:48</td>             <th>  BIC                </th> <td>1029.348</td>\n",
       "</tr>\n",
       "<tr>\n",
       "  <th>Sample:</th>                    <td>01-01-1949</td>            <th>  HQIC               </th> <td>1022.520</td>\n",
       "</tr>\n",
       "<tr>\n",
       "  <th></th>                          <td>- 12-01-1960</td>           <th>                     </th>     <td> </td>   \n",
       "</tr>\n",
       "<tr>\n",
       "  <th>Covariance Type:</th>               <td>opg</td>               <th>                     </th>     <td> </td>   \n",
       "</tr>\n",
       "</table>\n",
       "<table class=\"simpletable\">\n",
       "<tr>\n",
       "     <td></td>       <th>coef</th>     <th>std err</th>      <th>z</th>      <th>P>|z|</th>  <th>[0.025</th>    <th>0.975]</th>  \n",
       "</tr>\n",
       "<tr>\n",
       "  <th>ar.L1</th>  <td>    0.5960</td> <td>    0.085</td> <td>    6.986</td> <td> 0.000</td> <td>    0.429</td> <td>    0.763</td>\n",
       "</tr>\n",
       "<tr>\n",
       "  <th>ar.L2</th>  <td>    0.2143</td> <td>    0.091</td> <td>    2.343</td> <td> 0.019</td> <td>    0.035</td> <td>    0.394</td>\n",
       "</tr>\n",
       "<tr>\n",
       "  <th>ma.L1</th>  <td>   -0.9819</td> <td>    0.038</td> <td>  -25.597</td> <td> 0.000</td> <td>   -1.057</td> <td>   -0.907</td>\n",
       "</tr>\n",
       "<tr>\n",
       "  <th>sigma2</th> <td>  129.3185</td> <td>   14.558</td> <td>    8.883</td> <td> 0.000</td> <td>  100.786</td> <td>  157.851</td>\n",
       "</tr>\n",
       "</table>\n",
       "<table class=\"simpletable\">\n",
       "<tr>\n",
       "  <th>Ljung-Box (L1) (Q):</th>     <td>0.00</td> <th>  Jarque-Bera (JB):  </th> <td>7.68</td> \n",
       "</tr>\n",
       "<tr>\n",
       "  <th>Prob(Q):</th>                <td>0.98</td> <th>  Prob(JB):          </th> <td>0.02</td> \n",
       "</tr>\n",
       "<tr>\n",
       "  <th>Heteroskedasticity (H):</th> <td>2.33</td> <th>  Skew:              </th> <td>-0.01</td>\n",
       "</tr>\n",
       "<tr>\n",
       "  <th>Prob(H) (two-sided):</th>    <td>0.01</td> <th>  Kurtosis:          </th> <td>4.19</td> \n",
       "</tr>\n",
       "</table><br/><br/>Warnings:<br/>[1] Covariance matrix calculated using the outer product of gradients (complex-step)."
      ],
      "text/latex": [
       "\\begin{center}\n",
       "\\begin{tabular}{lclc}\n",
       "\\toprule\n",
       "\\textbf{Dep. Variable:}          &                y                & \\textbf{  No. Observations:  } &    144      \\\\\n",
       "\\textbf{Model:}                  & SARIMAX(2, 1, 1)x(0, 1, [], 12) & \\textbf{  Log Likelihood     } &  -504.923   \\\\\n",
       "\\textbf{Date:}                   &         Sat, 30 Sep 2023        & \\textbf{  AIC                } &  1017.847   \\\\\n",
       "\\textbf{Time:}                   &             10:58:48            & \\textbf{  BIC                } &  1029.348   \\\\\n",
       "\\textbf{Sample:}                 &            01-01-1949           & \\textbf{  HQIC               } &  1022.520   \\\\\n",
       "\\textbf{}                        &           - 12-01-1960          & \\textbf{                     } &             \\\\\n",
       "\\textbf{Covariance Type:}        &               opg               & \\textbf{                     } &             \\\\\n",
       "\\bottomrule\n",
       "\\end{tabular}\n",
       "\\begin{tabular}{lcccccc}\n",
       "                & \\textbf{coef} & \\textbf{std err} & \\textbf{z} & \\textbf{P$> |$z$|$} & \\textbf{[0.025} & \\textbf{0.975]}  \\\\\n",
       "\\midrule\n",
       "\\textbf{ar.L1}  &       0.5960  &        0.085     &     6.986  &         0.000        &        0.429    &        0.763     \\\\\n",
       "\\textbf{ar.L2}  &       0.2143  &        0.091     &     2.343  &         0.019        &        0.035    &        0.394     \\\\\n",
       "\\textbf{ma.L1}  &      -0.9819  &        0.038     &   -25.597  &         0.000        &       -1.057    &       -0.907     \\\\\n",
       "\\textbf{sigma2} &     129.3185  &       14.558     &     8.883  &         0.000        &      100.786    &      157.851     \\\\\n",
       "\\bottomrule\n",
       "\\end{tabular}\n",
       "\\begin{tabular}{lclc}\n",
       "\\textbf{Ljung-Box (L1) (Q):}     & 0.00 & \\textbf{  Jarque-Bera (JB):  } &  7.68  \\\\\n",
       "\\textbf{Prob(Q):}                & 0.98 & \\textbf{  Prob(JB):          } &  0.02  \\\\\n",
       "\\textbf{Heteroskedasticity (H):} & 2.33 & \\textbf{  Skew:              } & -0.01  \\\\\n",
       "\\textbf{Prob(H) (two-sided):}    & 0.01 & \\textbf{  Kurtosis:          } &  4.19  \\\\\n",
       "\\bottomrule\n",
       "\\end{tabular}\n",
       "%\\caption{SARIMAX Results}\n",
       "\\end{center}\n",
       "\n",
       "Warnings: \\newline\n",
       " [1] Covariance matrix calculated using the outer product of gradients (complex-step)."
      ],
      "text/plain": [
       "<class 'statsmodels.iolib.summary.Summary'>\n",
       "\"\"\"\n",
       "                                      SARIMAX Results                                      \n",
       "===========================================================================================\n",
       "Dep. Variable:                                   y   No. Observations:                  144\n",
       "Model:             SARIMAX(2, 1, 1)x(0, 1, [], 12)   Log Likelihood                -504.923\n",
       "Date:                             Sat, 30 Sep 2023   AIC                           1017.847\n",
       "Time:                                     10:58:48   BIC                           1029.348\n",
       "Sample:                                 01-01-1949   HQIC                          1022.520\n",
       "                                      - 12-01-1960                                         \n",
       "Covariance Type:                               opg                                         \n",
       "==============================================================================\n",
       "                 coef    std err          z      P>|z|      [0.025      0.975]\n",
       "------------------------------------------------------------------------------\n",
       "ar.L1          0.5960      0.085      6.986      0.000       0.429       0.763\n",
       "ar.L2          0.2143      0.091      2.343      0.019       0.035       0.394\n",
       "ma.L1         -0.9819      0.038    -25.597      0.000      -1.057      -0.907\n",
       "sigma2       129.3185     14.558      8.883      0.000     100.786     157.851\n",
       "===================================================================================\n",
       "Ljung-Box (L1) (Q):                   0.00   Jarque-Bera (JB):                 7.68\n",
       "Prob(Q):                              0.98   Prob(JB):                         0.02\n",
       "Heteroskedasticity (H):               2.33   Skew:                            -0.01\n",
       "Prob(H) (two-sided):                  0.01   Kurtosis:                         4.19\n",
       "===================================================================================\n",
       "\n",
       "Warnings:\n",
       "[1] Covariance matrix calculated using the outer product of gradients (complex-step).\n",
       "\"\"\""
      ]
     },
     "execution_count": 45,
     "metadata": {},
     "output_type": "execute_result"
    }
   ],
   "source": [
    "auto_arima(flights['passengers'], m=12, trace=True).summary()"
   ]
  },
  {
   "cell_type": "markdown",
   "id": "e8b4ab1e-214f-402a-9944-5dfd9f330302",
   "metadata": {},
   "source": [
    "## Making our data stationary"
   ]
  },
  {
   "cell_type": "markdown",
   "id": "9f2ab9f3-b7b1-42ee-b92b-89e4d7e9be04",
   "metadata": {},
   "source": [
    "Four ways to make our data stationary:\n",
    "\n",
    "1. Time shift and then differencing\n",
    "2. Taking the log of our data\n",
    "3. Taking the cube root or square root of our data\n",
    "4. Combination of above (ex. time shift and also taking the log)"
   ]
  },
  {
   "cell_type": "markdown",
   "id": "7226b37a-51ca-49a5-b739-b69c506c920b",
   "metadata": {},
   "source": [
    "#### Time Shift Method"
   ]
  },
  {
   "cell_type": "markdown",
   "id": "23a2a55f-51a0-4a4f-8949-6a8a84e85f0a",
   "metadata": {},
   "source": [
    "First, let's remind ourself, what our data currently looks like:"
   ]
  },
  {
   "cell_type": "code",
   "execution_count": 46,
   "id": "39fae11e-5d8c-43fb-9bee-c8e639b2549b",
   "metadata": {},
   "outputs": [
    {
     "data": {
      "text/html": [
       "<div>\n",
       "<style scoped>\n",
       "    .dataframe tbody tr th:only-of-type {\n",
       "        vertical-align: middle;\n",
       "    }\n",
       "\n",
       "    .dataframe tbody tr th {\n",
       "        vertical-align: top;\n",
       "    }\n",
       "\n",
       "    .dataframe thead th {\n",
       "        text-align: right;\n",
       "    }\n",
       "</style>\n",
       "<table border=\"1\" class=\"dataframe\">\n",
       "  <thead>\n",
       "    <tr style=\"text-align: right;\">\n",
       "      <th></th>\n",
       "      <th>passengers</th>\n",
       "      <th>rolling_mean</th>\n",
       "      <th>rolling_std_dev</th>\n",
       "    </tr>\n",
       "    <tr>\n",
       "      <th>year_month</th>\n",
       "      <th></th>\n",
       "      <th></th>\n",
       "      <th></th>\n",
       "    </tr>\n",
       "  </thead>\n",
       "  <tbody>\n",
       "    <tr>\n",
       "      <th>1949-01-01</th>\n",
       "      <td>112</td>\n",
       "      <td>NaN</td>\n",
       "      <td>NaN</td>\n",
       "    </tr>\n",
       "    <tr>\n",
       "      <th>1949-02-01</th>\n",
       "      <td>118</td>\n",
       "      <td>NaN</td>\n",
       "      <td>NaN</td>\n",
       "    </tr>\n",
       "    <tr>\n",
       "      <th>1949-03-01</th>\n",
       "      <td>132</td>\n",
       "      <td>NaN</td>\n",
       "      <td>NaN</td>\n",
       "    </tr>\n",
       "    <tr>\n",
       "      <th>1949-04-01</th>\n",
       "      <td>129</td>\n",
       "      <td>NaN</td>\n",
       "      <td>NaN</td>\n",
       "    </tr>\n",
       "    <tr>\n",
       "      <th>1949-05-01</th>\n",
       "      <td>121</td>\n",
       "      <td>NaN</td>\n",
       "      <td>NaN</td>\n",
       "    </tr>\n",
       "  </tbody>\n",
       "</table>\n",
       "</div>"
      ],
      "text/plain": [
       "            passengers  rolling_mean  rolling_std_dev\n",
       "year_month                                           \n",
       "1949-01-01         112           NaN              NaN\n",
       "1949-02-01         118           NaN              NaN\n",
       "1949-03-01         132           NaN              NaN\n",
       "1949-04-01         129           NaN              NaN\n",
       "1949-05-01         121           NaN              NaN"
      ]
     },
     "execution_count": 46,
     "metadata": {},
     "output_type": "execute_result"
    }
   ],
   "source": [
    "flights.head()"
   ]
  },
  {
   "cell_type": "markdown",
   "id": "b087ebc8-d67c-44c9-80bf-513c90e2f5b3",
   "metadata": {},
   "source": [
    "#### Let's start with a clean slate and just keep the `year_month` and `passengers` columns"
   ]
  },
  {
   "cell_type": "code",
   "execution_count": 48,
   "id": "195646b6-fbaf-430b-bc2b-8d050b381f4b",
   "metadata": {},
   "outputs": [],
   "source": [
    "flights = flights[['passengers']]"
   ]
  },
  {
   "cell_type": "code",
   "execution_count": 49,
   "id": "66f01cac-d5e7-4857-90b4-a025a5597f39",
   "metadata": {},
   "outputs": [
    {
     "data": {
      "text/html": [
       "<div>\n",
       "<style scoped>\n",
       "    .dataframe tbody tr th:only-of-type {\n",
       "        vertical-align: middle;\n",
       "    }\n",
       "\n",
       "    .dataframe tbody tr th {\n",
       "        vertical-align: top;\n",
       "    }\n",
       "\n",
       "    .dataframe thead th {\n",
       "        text-align: right;\n",
       "    }\n",
       "</style>\n",
       "<table border=\"1\" class=\"dataframe\">\n",
       "  <thead>\n",
       "    <tr style=\"text-align: right;\">\n",
       "      <th></th>\n",
       "      <th>passengers</th>\n",
       "    </tr>\n",
       "    <tr>\n",
       "      <th>year_month</th>\n",
       "      <th></th>\n",
       "    </tr>\n",
       "  </thead>\n",
       "  <tbody>\n",
       "    <tr>\n",
       "      <th>1949-01-01</th>\n",
       "      <td>112</td>\n",
       "    </tr>\n",
       "    <tr>\n",
       "      <th>1949-02-01</th>\n",
       "      <td>118</td>\n",
       "    </tr>\n",
       "    <tr>\n",
       "      <th>1949-03-01</th>\n",
       "      <td>132</td>\n",
       "    </tr>\n",
       "    <tr>\n",
       "      <th>1949-04-01</th>\n",
       "      <td>129</td>\n",
       "    </tr>\n",
       "    <tr>\n",
       "      <th>1949-05-01</th>\n",
       "      <td>121</td>\n",
       "    </tr>\n",
       "  </tbody>\n",
       "</table>\n",
       "</div>"
      ],
      "text/plain": [
       "            passengers\n",
       "year_month            \n",
       "1949-01-01         112\n",
       "1949-02-01         118\n",
       "1949-03-01         132\n",
       "1949-04-01         129\n",
       "1949-05-01         121"
      ]
     },
     "execution_count": 49,
     "metadata": {},
     "output_type": "execute_result"
    }
   ],
   "source": [
    "flights.head()"
   ]
  },
  {
   "cell_type": "markdown",
   "id": "bc1e7032-5693-4aa5-b8ca-750b363cdb6a",
   "metadata": {},
   "source": [
    "#### Now, let's create a new column that contains shifted values.  Since we have seasonality that is repeating every 1 year or 12 months, we will shift by 12 months"
   ]
  },
  {
   "cell_type": "markdown",
   "id": "4ff493d2-7ee1-4366-97d0-fe819f63f1c0",
   "metadata": {},
   "source": [
    "Pandas dataframe has a handy, built-in function to create shifts for us."
   ]
  },
  {
   "cell_type": "code",
   "execution_count": 50,
   "id": "5c8eed92-293e-4ed7-923b-bcb91592ccf0",
   "metadata": {},
   "outputs": [],
   "source": [
    "flights = flights.assign(shift12 = flights['passengers'].shift(12))"
   ]
  },
  {
   "cell_type": "markdown",
   "id": "e5425a87-7a4c-4e34-b9c9-19cc47da6339",
   "metadata": {},
   "source": [
    "Let's confirm we have successfully create our new `shift12` column"
   ]
  },
  {
   "cell_type": "code",
   "execution_count": 51,
   "id": "3a069b14-3378-4dde-b03d-b5786eb5d10d",
   "metadata": {},
   "outputs": [
    {
     "data": {
      "text/html": [
       "<div>\n",
       "<style scoped>\n",
       "    .dataframe tbody tr th:only-of-type {\n",
       "        vertical-align: middle;\n",
       "    }\n",
       "\n",
       "    .dataframe tbody tr th {\n",
       "        vertical-align: top;\n",
       "    }\n",
       "\n",
       "    .dataframe thead th {\n",
       "        text-align: right;\n",
       "    }\n",
       "</style>\n",
       "<table border=\"1\" class=\"dataframe\">\n",
       "  <thead>\n",
       "    <tr style=\"text-align: right;\">\n",
       "      <th></th>\n",
       "      <th>passengers</th>\n",
       "      <th>shift12</th>\n",
       "    </tr>\n",
       "    <tr>\n",
       "      <th>year_month</th>\n",
       "      <th></th>\n",
       "      <th></th>\n",
       "    </tr>\n",
       "  </thead>\n",
       "  <tbody>\n",
       "    <tr>\n",
       "      <th>1949-01-01</th>\n",
       "      <td>112</td>\n",
       "      <td>NaN</td>\n",
       "    </tr>\n",
       "    <tr>\n",
       "      <th>1949-02-01</th>\n",
       "      <td>118</td>\n",
       "      <td>NaN</td>\n",
       "    </tr>\n",
       "    <tr>\n",
       "      <th>1949-03-01</th>\n",
       "      <td>132</td>\n",
       "      <td>NaN</td>\n",
       "    </tr>\n",
       "    <tr>\n",
       "      <th>1949-04-01</th>\n",
       "      <td>129</td>\n",
       "      <td>NaN</td>\n",
       "    </tr>\n",
       "    <tr>\n",
       "      <th>1949-05-01</th>\n",
       "      <td>121</td>\n",
       "      <td>NaN</td>\n",
       "    </tr>\n",
       "    <tr>\n",
       "      <th>1949-06-01</th>\n",
       "      <td>135</td>\n",
       "      <td>NaN</td>\n",
       "    </tr>\n",
       "    <tr>\n",
       "      <th>1949-07-01</th>\n",
       "      <td>148</td>\n",
       "      <td>NaN</td>\n",
       "    </tr>\n",
       "    <tr>\n",
       "      <th>1949-08-01</th>\n",
       "      <td>148</td>\n",
       "      <td>NaN</td>\n",
       "    </tr>\n",
       "    <tr>\n",
       "      <th>1949-09-01</th>\n",
       "      <td>136</td>\n",
       "      <td>NaN</td>\n",
       "    </tr>\n",
       "    <tr>\n",
       "      <th>1949-10-01</th>\n",
       "      <td>119</td>\n",
       "      <td>NaN</td>\n",
       "    </tr>\n",
       "    <tr>\n",
       "      <th>1949-11-01</th>\n",
       "      <td>104</td>\n",
       "      <td>NaN</td>\n",
       "    </tr>\n",
       "    <tr>\n",
       "      <th>1949-12-01</th>\n",
       "      <td>118</td>\n",
       "      <td>NaN</td>\n",
       "    </tr>\n",
       "    <tr>\n",
       "      <th>1950-01-01</th>\n",
       "      <td>115</td>\n",
       "      <td>112.0</td>\n",
       "    </tr>\n",
       "    <tr>\n",
       "      <th>1950-02-01</th>\n",
       "      <td>126</td>\n",
       "      <td>118.0</td>\n",
       "    </tr>\n",
       "    <tr>\n",
       "      <th>1950-03-01</th>\n",
       "      <td>141</td>\n",
       "      <td>132.0</td>\n",
       "    </tr>\n",
       "  </tbody>\n",
       "</table>\n",
       "</div>"
      ],
      "text/plain": [
       "            passengers  shift12\n",
       "year_month                     \n",
       "1949-01-01         112      NaN\n",
       "1949-02-01         118      NaN\n",
       "1949-03-01         132      NaN\n",
       "1949-04-01         129      NaN\n",
       "1949-05-01         121      NaN\n",
       "1949-06-01         135      NaN\n",
       "1949-07-01         148      NaN\n",
       "1949-08-01         148      NaN\n",
       "1949-09-01         136      NaN\n",
       "1949-10-01         119      NaN\n",
       "1949-11-01         104      NaN\n",
       "1949-12-01         118      NaN\n",
       "1950-01-01         115    112.0\n",
       "1950-02-01         126    118.0\n",
       "1950-03-01         141    132.0"
      ]
     },
     "execution_count": 51,
     "metadata": {},
     "output_type": "execute_result"
    }
   ],
   "source": [
    "flights.head(n=15)"
   ]
  },
  {
   "cell_type": "markdown",
   "id": "3b9c80fb-4eee-4fed-8d67-6d80b150d2f8",
   "metadata": {},
   "source": [
    "#### Now let's create a new column `diff12` that represents the difference between actual or passengers value and the shifted value"
   ]
  },
  {
   "cell_type": "markdown",
   "id": "7e72dabc-4914-4376-bb0f-b5b40bcd7c19",
   "metadata": {},
   "source": [
    "NOTE: Pandas also has a `diff()` method that will perform shift and differencing at the same time.  But I'd rather see the shift and diff columns separately so that it is more apparent what I am doing."
   ]
  },
  {
   "cell_type": "code",
   "execution_count": 52,
   "id": "7f088eec-2276-429f-b3b4-a737e402bb16",
   "metadata": {},
   "outputs": [],
   "source": [
    "flights = flights.assign(diff12 = flights['passengers'] - flights['shift12'])"
   ]
  },
  {
   "cell_type": "code",
   "execution_count": 53,
   "id": "21e78d39-ff75-4611-b9e9-8df78632dea6",
   "metadata": {},
   "outputs": [
    {
     "data": {
      "text/html": [
       "<div>\n",
       "<style scoped>\n",
       "    .dataframe tbody tr th:only-of-type {\n",
       "        vertical-align: middle;\n",
       "    }\n",
       "\n",
       "    .dataframe tbody tr th {\n",
       "        vertical-align: top;\n",
       "    }\n",
       "\n",
       "    .dataframe thead th {\n",
       "        text-align: right;\n",
       "    }\n",
       "</style>\n",
       "<table border=\"1\" class=\"dataframe\">\n",
       "  <thead>\n",
       "    <tr style=\"text-align: right;\">\n",
       "      <th></th>\n",
       "      <th>passengers</th>\n",
       "      <th>shift12</th>\n",
       "      <th>diff12</th>\n",
       "    </tr>\n",
       "    <tr>\n",
       "      <th>year_month</th>\n",
       "      <th></th>\n",
       "      <th></th>\n",
       "      <th></th>\n",
       "    </tr>\n",
       "  </thead>\n",
       "  <tbody>\n",
       "    <tr>\n",
       "      <th>1949-01-01</th>\n",
       "      <td>112</td>\n",
       "      <td>NaN</td>\n",
       "      <td>NaN</td>\n",
       "    </tr>\n",
       "    <tr>\n",
       "      <th>1949-02-01</th>\n",
       "      <td>118</td>\n",
       "      <td>NaN</td>\n",
       "      <td>NaN</td>\n",
       "    </tr>\n",
       "    <tr>\n",
       "      <th>1949-03-01</th>\n",
       "      <td>132</td>\n",
       "      <td>NaN</td>\n",
       "      <td>NaN</td>\n",
       "    </tr>\n",
       "    <tr>\n",
       "      <th>1949-04-01</th>\n",
       "      <td>129</td>\n",
       "      <td>NaN</td>\n",
       "      <td>NaN</td>\n",
       "    </tr>\n",
       "    <tr>\n",
       "      <th>1949-05-01</th>\n",
       "      <td>121</td>\n",
       "      <td>NaN</td>\n",
       "      <td>NaN</td>\n",
       "    </tr>\n",
       "    <tr>\n",
       "      <th>1949-06-01</th>\n",
       "      <td>135</td>\n",
       "      <td>NaN</td>\n",
       "      <td>NaN</td>\n",
       "    </tr>\n",
       "    <tr>\n",
       "      <th>1949-07-01</th>\n",
       "      <td>148</td>\n",
       "      <td>NaN</td>\n",
       "      <td>NaN</td>\n",
       "    </tr>\n",
       "    <tr>\n",
       "      <th>1949-08-01</th>\n",
       "      <td>148</td>\n",
       "      <td>NaN</td>\n",
       "      <td>NaN</td>\n",
       "    </tr>\n",
       "    <tr>\n",
       "      <th>1949-09-01</th>\n",
       "      <td>136</td>\n",
       "      <td>NaN</td>\n",
       "      <td>NaN</td>\n",
       "    </tr>\n",
       "    <tr>\n",
       "      <th>1949-10-01</th>\n",
       "      <td>119</td>\n",
       "      <td>NaN</td>\n",
       "      <td>NaN</td>\n",
       "    </tr>\n",
       "    <tr>\n",
       "      <th>1949-11-01</th>\n",
       "      <td>104</td>\n",
       "      <td>NaN</td>\n",
       "      <td>NaN</td>\n",
       "    </tr>\n",
       "    <tr>\n",
       "      <th>1949-12-01</th>\n",
       "      <td>118</td>\n",
       "      <td>NaN</td>\n",
       "      <td>NaN</td>\n",
       "    </tr>\n",
       "    <tr>\n",
       "      <th>1950-01-01</th>\n",
       "      <td>115</td>\n",
       "      <td>112.0</td>\n",
       "      <td>3.0</td>\n",
       "    </tr>\n",
       "    <tr>\n",
       "      <th>1950-02-01</th>\n",
       "      <td>126</td>\n",
       "      <td>118.0</td>\n",
       "      <td>8.0</td>\n",
       "    </tr>\n",
       "    <tr>\n",
       "      <th>1950-03-01</th>\n",
       "      <td>141</td>\n",
       "      <td>132.0</td>\n",
       "      <td>9.0</td>\n",
       "    </tr>\n",
       "  </tbody>\n",
       "</table>\n",
       "</div>"
      ],
      "text/plain": [
       "            passengers  shift12  diff12\n",
       "year_month                             \n",
       "1949-01-01         112      NaN     NaN\n",
       "1949-02-01         118      NaN     NaN\n",
       "1949-03-01         132      NaN     NaN\n",
       "1949-04-01         129      NaN     NaN\n",
       "1949-05-01         121      NaN     NaN\n",
       "1949-06-01         135      NaN     NaN\n",
       "1949-07-01         148      NaN     NaN\n",
       "1949-08-01         148      NaN     NaN\n",
       "1949-09-01         136      NaN     NaN\n",
       "1949-10-01         119      NaN     NaN\n",
       "1949-11-01         104      NaN     NaN\n",
       "1949-12-01         118      NaN     NaN\n",
       "1950-01-01         115    112.0     3.0\n",
       "1950-02-01         126    118.0     8.0\n",
       "1950-03-01         141    132.0     9.0"
      ]
     },
     "execution_count": 53,
     "metadata": {},
     "output_type": "execute_result"
    }
   ],
   "source": [
    "flights.head(n=15)"
   ]
  },
  {
   "cell_type": "markdown",
   "id": "0f277c13-53df-47f9-ac34-524ed3277106",
   "metadata": {},
   "source": [
    "#### Now, let's perform the ADF test on the shift difference or `diff12`"
   ]
  },
  {
   "cell_type": "code",
   "execution_count": 57,
   "id": "8a871fc0-a2f4-4361-91f0-bf91ea6cf3f0",
   "metadata": {},
   "outputs": [
    {
     "name": "stdout",
     "output_type": "stream",
     "text": [
      "ADF Test Statistic : -3.3830207264924796\n",
      "p-value : 0.011551493085515008\n",
      "#Lags Used : 1\n",
      "Number of Observations Used : 130\n",
      "Critical Values : {'1%': -3.4816817173418295, '5%': -2.8840418343195267, '10%': -2.578770059171598}\n",
      "H₀/null hypothesis: Data is non-stationary\n",
      "\n",
      "\n",
      "Strong evidence to reject the null hypothesis that data is non-stationary.  Therefore, data is most likely stationary.\n",
      "\n",
      "\n",
      "\n",
      "Plots of rolling mean and standard deviation with window = 12\n"
     ]
    },
    {
     "data": {
      "image/png": "[encoded data removed]",
      "text/plain": [
       "<Figure size 640x480 with 1 Axes>"
      ]
     },
     "metadata": {},
     "output_type": "display_data"
    }
   ],
   "source": [
    "adfuller_test(data=flights, y='diff12', window=12)"
   ]
  },
  {
   "cell_type": "markdown",
   "id": "600c3ede-e9e2-4fe5-bf9a-a6f572c228fe",
   "metadata": {},
   "source": [
    "## Obtain ARIMA parameters: p, d, q"
   ]
  },
  {
   "cell_type": "markdown",
   "id": "9a766ccf-2c56-47dd-9ded-4c1191cc5f5e",
   "metadata": {},
   "source": [
    "- We obtain `p` parameter by observing the PACF plot\n",
    "- We obtain `q` parameter by observing the ACF plot\n",
    "- We obtain `d` parameter based on the amount of shift differencing"
   ]
  },
  {
   "cell_type": "markdown",
   "id": "2b7cea95-3031-47b0-840b-fb43f55bb869",
   "metadata": {},
   "source": [
    "#### statsmodels have plot_acf() and plot_pacf() methods to plot ACF and PACF plots, respectively"
   ]
  },
  {
   "cell_type": "code",
   "execution_count": 58,
   "id": "fdbd2008-8e51-4404-a72d-76ba552d7776",
   "metadata": {},
   "outputs": [],
   "source": [
    "from statsmodels.graphics.tsaplots import plot_acf,plot_pacf"
   ]
  },
  {
   "cell_type": "code",
   "execution_count": 59,
   "id": "b4e61f6b-7c46-47f9-a0b4-3328378266ee",
   "metadata": {},
   "outputs": [
    {
     "data": {
      "text/html": [
       "<div>\n",
       "<style scoped>\n",
       "    .dataframe tbody tr th:only-of-type {\n",
       "        vertical-align: middle;\n",
       "    }\n",
       "\n",
       "    .dataframe tbody tr th {\n",
       "        vertical-align: top;\n",
       "    }\n",
       "\n",
       "    .dataframe thead th {\n",
       "        text-align: right;\n",
       "    }\n",
       "</style>\n",
       "<table border=\"1\" class=\"dataframe\">\n",
       "  <thead>\n",
       "    <tr style=\"text-align: right;\">\n",
       "      <th></th>\n",
       "      <th>passengers</th>\n",
       "      <th>shift12</th>\n",
       "      <th>diff12</th>\n",
       "    </tr>\n",
       "    <tr>\n",
       "      <th>year_month</th>\n",
       "      <th></th>\n",
       "      <th></th>\n",
       "      <th></th>\n",
       "    </tr>\n",
       "  </thead>\n",
       "  <tbody>\n",
       "    <tr>\n",
       "      <th>1949-01-01</th>\n",
       "      <td>112</td>\n",
       "      <td>NaN</td>\n",
       "      <td>NaN</td>\n",
       "    </tr>\n",
       "    <tr>\n",
       "      <th>1949-02-01</th>\n",
       "      <td>118</td>\n",
       "      <td>NaN</td>\n",
       "      <td>NaN</td>\n",
       "    </tr>\n",
       "    <tr>\n",
       "      <th>1949-03-01</th>\n",
       "      <td>132</td>\n",
       "      <td>NaN</td>\n",
       "      <td>NaN</td>\n",
       "    </tr>\n",
       "    <tr>\n",
       "      <th>1949-04-01</th>\n",
       "      <td>129</td>\n",
       "      <td>NaN</td>\n",
       "      <td>NaN</td>\n",
       "    </tr>\n",
       "    <tr>\n",
       "      <th>1949-05-01</th>\n",
       "      <td>121</td>\n",
       "      <td>NaN</td>\n",
       "      <td>NaN</td>\n",
       "    </tr>\n",
       "  </tbody>\n",
       "</table>\n",
       "</div>"
      ],
      "text/plain": [
       "            passengers  shift12  diff12\n",
       "year_month                             \n",
       "1949-01-01         112      NaN     NaN\n",
       "1949-02-01         118      NaN     NaN\n",
       "1949-03-01         132      NaN     NaN\n",
       "1949-04-01         129      NaN     NaN\n",
       "1949-05-01         121      NaN     NaN"
      ]
     },
     "execution_count": 59,
     "metadata": {},
     "output_type": "execute_result"
    }
   ],
   "source": [
    "flights.head()"
   ]
  },
  {
   "cell_type": "markdown",
   "id": "405d7ca7-d2cc-4042-a34e-dca82f5e70cc",
   "metadata": {},
   "source": [
    "#### Now, let's plot the PACF plot to determine the `p` parameter"
   ]
  },
  {
   "cell_type": "code",
   "execution_count": 60,
   "id": "fb9c0a28-d609-443a-b89d-54c72f3219e0",
   "metadata": {},
   "outputs": [
    {
     "data": {
      "image/png": "[encoded data removed]",
      "text/plain": [
       "<Figure size 640x480 with 1 Axes>"
      ]
     },
     "metadata": {},
     "output_type": "display_data"
    }
   ],
   "source": [
    "plot_pacf(flights['diff12'].dropna(), lags=20)\n",
    "sns.despine()\n",
    "plt.show()"
   ]
  },
  {
   "cell_type": "markdown",
   "id": "a899d4a4-8548-4976-a36a-9de356133606",
   "metadata": {},
   "source": [
    "Based on the PACF plot above, we would choose 2 as the value for our `p` parameter because it is until after the 2nd lag that our lags start to fall into the shaded region of the confidence interval."
   ]
  },
  {
   "cell_type": "markdown",
   "id": "5a241561-a939-4547-b45d-83e89e8db9aa",
   "metadata": {},
   "source": [
    "#### Let's plot the ACF plot to determine the `q` parameter"
   ]
  },
  {
   "cell_type": "code",
   "execution_count": 61,
   "id": "ef50bbb2-f541-42dc-a21d-0720c41aa508",
   "metadata": {},
   "outputs": [
    {
     "data": {
      "image/png": "[encoded data removed]",
      "text/plain": [
       "<Figure size 640x480 with 1 Axes>"
      ]
     },
     "metadata": {},
     "output_type": "display_data"
    }
   ],
   "source": [
    "plot_acf(flights['diff12'].dropna(), lags=20)\n",
    "sns.despine()\n",
    "plt.show()"
   ]
  },
  {
   "cell_type": "markdown",
   "id": "7b9f71ee-3558-4934-a54c-b14880af566d",
   "metadata": {},
   "source": [
    "From the ACF plot above, we see the lags taper downwards slowly.  In this case, rule of thumb is to set the value of q to the value we have for p, which is 1."
   ]
  },
  {
   "cell_type": "markdown",
   "id": "24be6157-661a-4bbc-b830-fd5fcad3d32d",
   "metadata": {},
   "source": [
    "For the `d` parameter, we would use 1 since we applied differencing only once."
   ]
  },
  {
   "cell_type": "markdown",
   "id": "a3983a24-fb61-4117-bc55-5734007341ff",
   "metadata": {},
   "source": [
    "Since we now have values for the `p`(2), `d`(1), and `q`(1) parameters, we can start to build our ARIMA model.  But we need to first split our data into training set and test set."
   ]
  },
  {
   "cell_type": "markdown",
   "id": "348c05e5-4605-47d7-aa0d-7da7468dbfbb",
   "metadata": {},
   "source": [
    "## Split our data into training and test data sets"
   ]
  },
  {
   "cell_type": "markdown",
   "id": "cbc7fb5a-e78a-441a-a918-72f0ba90ff46",
   "metadata": {},
   "source": [
    "I will arbitrarily make our training data to consist of 70% of the data."
   ]
  },
  {
   "cell_type": "code",
   "execution_count": 62,
   "id": "666e07ee-f12c-4002-ad5c-1a1d9b9d827e",
   "metadata": {},
   "outputs": [
    {
     "data": {
      "text/html": [
       "<div>\n",
       "<style scoped>\n",
       "    .dataframe tbody tr th:only-of-type {\n",
       "        vertical-align: middle;\n",
       "    }\n",
       "\n",
       "    .dataframe tbody tr th {\n",
       "        vertical-align: top;\n",
       "    }\n",
       "\n",
       "    .dataframe thead th {\n",
       "        text-align: right;\n",
       "    }\n",
       "</style>\n",
       "<table border=\"1\" class=\"dataframe\">\n",
       "  <thead>\n",
       "    <tr style=\"text-align: right;\">\n",
       "      <th></th>\n",
       "      <th>passengers</th>\n",
       "      <th>shift12</th>\n",
       "      <th>diff12</th>\n",
       "    </tr>\n",
       "    <tr>\n",
       "      <th>year_month</th>\n",
       "      <th></th>\n",
       "      <th></th>\n",
       "      <th></th>\n",
       "    </tr>\n",
       "  </thead>\n",
       "  <tbody>\n",
       "    <tr>\n",
       "      <th>1949-01-01</th>\n",
       "      <td>112</td>\n",
       "      <td>NaN</td>\n",
       "      <td>NaN</td>\n",
       "    </tr>\n",
       "    <tr>\n",
       "      <th>1949-02-01</th>\n",
       "      <td>118</td>\n",
       "      <td>NaN</td>\n",
       "      <td>NaN</td>\n",
       "    </tr>\n",
       "    <tr>\n",
       "      <th>1949-03-01</th>\n",
       "      <td>132</td>\n",
       "      <td>NaN</td>\n",
       "      <td>NaN</td>\n",
       "    </tr>\n",
       "    <tr>\n",
       "      <th>1949-04-01</th>\n",
       "      <td>129</td>\n",
       "      <td>NaN</td>\n",
       "      <td>NaN</td>\n",
       "    </tr>\n",
       "    <tr>\n",
       "      <th>1949-05-01</th>\n",
       "      <td>121</td>\n",
       "      <td>NaN</td>\n",
       "      <td>NaN</td>\n",
       "    </tr>\n",
       "  </tbody>\n",
       "</table>\n",
       "</div>"
      ],
      "text/plain": [
       "            passengers  shift12  diff12\n",
       "year_month                             \n",
       "1949-01-01         112      NaN     NaN\n",
       "1949-02-01         118      NaN     NaN\n",
       "1949-03-01         132      NaN     NaN\n",
       "1949-04-01         129      NaN     NaN\n",
       "1949-05-01         121      NaN     NaN"
      ]
     },
     "execution_count": 62,
     "metadata": {},
     "output_type": "execute_result"
    }
   ],
   "source": [
    "flights.head()"
   ]
  },
  {
   "cell_type": "code",
   "execution_count": 63,
   "id": "22a2f2c9-00ff-4f8e-a9bc-d5277a8c5d99",
   "metadata": {},
   "outputs": [
    {
     "data": {
      "text/plain": [
       "144"
      ]
     },
     "execution_count": 63,
     "metadata": {},
     "output_type": "execute_result"
    }
   ],
   "source": [
    "len(flights)"
   ]
  },
  {
   "cell_type": "code",
   "execution_count": 64,
   "id": "6ab8e24f-edf8-4a18-be48-d9907b32cb41",
   "metadata": {},
   "outputs": [
    {
     "data": {
      "text/plain": [
       "101"
      ]
     },
     "execution_count": 64,
     "metadata": {},
     "output_type": "execute_result"
    }
   ],
   "source": [
    "round(len(flights) * 0.7)"
   ]
  },
  {
   "cell_type": "markdown",
   "id": "1b8f1d18-5c6e-4cf0-810a-0ab3caa1d855",
   "metadata": {},
   "source": [
    "From above, we see that we will reach 70% of our data with 101 rows of data.  We will use Python's index slicing syntax to create a subset of our original data to consist of the first 101 rows."
   ]
  },
  {
   "cell_type": "code",
   "execution_count": 65,
   "id": "ebd2c710-a6f5-4a7d-a2a0-4d212d2b1a38",
   "metadata": {},
   "outputs": [],
   "source": [
    "training_data = flights[:round(len(flights) * 0.7)]"
   ]
  },
  {
   "cell_type": "code",
   "execution_count": 66,
   "id": "deebf9c8-5e4f-4353-85d0-2a946d53c864",
   "metadata": {},
   "outputs": [
    {
     "data": {
      "text/plain": [
       "101"
      ]
     },
     "execution_count": 66,
     "metadata": {},
     "output_type": "execute_result"
    }
   ],
   "source": [
    "len(training_data) # should be 101 rows of data"
   ]
  },
  {
   "cell_type": "code",
   "execution_count": 67,
   "id": "2a57acfc-9b68-4ce6-b35f-97f1c6f54fb3",
   "metadata": {},
   "outputs": [
    {
     "data": {
      "text/html": [
       "<div>\n",
       "<style scoped>\n",
       "    .dataframe tbody tr th:only-of-type {\n",
       "        vertical-align: middle;\n",
       "    }\n",
       "\n",
       "    .dataframe tbody tr th {\n",
       "        vertical-align: top;\n",
       "    }\n",
       "\n",
       "    .dataframe thead th {\n",
       "        text-align: right;\n",
       "    }\n",
       "</style>\n",
       "<table border=\"1\" class=\"dataframe\">\n",
       "  <thead>\n",
       "    <tr style=\"text-align: right;\">\n",
       "      <th></th>\n",
       "      <th>passengers</th>\n",
       "      <th>shift12</th>\n",
       "      <th>diff12</th>\n",
       "    </tr>\n",
       "    <tr>\n",
       "      <th>year_month</th>\n",
       "      <th></th>\n",
       "      <th></th>\n",
       "      <th></th>\n",
       "    </tr>\n",
       "  </thead>\n",
       "  <tbody>\n",
       "    <tr>\n",
       "      <th>1957-01-01</th>\n",
       "      <td>315</td>\n",
       "      <td>284.0</td>\n",
       "      <td>31.0</td>\n",
       "    </tr>\n",
       "    <tr>\n",
       "      <th>1957-02-01</th>\n",
       "      <td>301</td>\n",
       "      <td>277.0</td>\n",
       "      <td>24.0</td>\n",
       "    </tr>\n",
       "    <tr>\n",
       "      <th>1957-03-01</th>\n",
       "      <td>356</td>\n",
       "      <td>317.0</td>\n",
       "      <td>39.0</td>\n",
       "    </tr>\n",
       "    <tr>\n",
       "      <th>1957-04-01</th>\n",
       "      <td>348</td>\n",
       "      <td>313.0</td>\n",
       "      <td>35.0</td>\n",
       "    </tr>\n",
       "    <tr>\n",
       "      <th>1957-05-01</th>\n",
       "      <td>355</td>\n",
       "      <td>318.0</td>\n",
       "      <td>37.0</td>\n",
       "    </tr>\n",
       "  </tbody>\n",
       "</table>\n",
       "</div>"
      ],
      "text/plain": [
       "            passengers  shift12  diff12\n",
       "year_month                             \n",
       "1957-01-01         315    284.0    31.0\n",
       "1957-02-01         301    277.0    24.0\n",
       "1957-03-01         356    317.0    39.0\n",
       "1957-04-01         348    313.0    35.0\n",
       "1957-05-01         355    318.0    37.0"
      ]
     },
     "execution_count": 67,
     "metadata": {},
     "output_type": "execute_result"
    }
   ],
   "source": [
    "training_data.tail()"
   ]
  },
  {
   "cell_type": "markdown",
   "id": "a5e1e6b1-edf5-4aa3-bf3e-48022519475d",
   "metadata": {},
   "source": [
    "From above we see that our last data was for May 1957."
   ]
  },
  {
   "cell_type": "code",
   "execution_count": 68,
   "id": "c4d581df-324a-4107-b62f-eb48abddf1c3",
   "metadata": {},
   "outputs": [],
   "source": [
    "test_data = flights[round(len(flights) * 0.7):]"
   ]
  },
  {
   "cell_type": "code",
   "execution_count": 69,
   "id": "8038ed24-1272-4a22-9f5e-ef3be0ea60cf",
   "metadata": {},
   "outputs": [
    {
     "data": {
      "text/html": [
       "<div>\n",
       "<style scoped>\n",
       "    .dataframe tbody tr th:only-of-type {\n",
       "        vertical-align: middle;\n",
       "    }\n",
       "\n",
       "    .dataframe tbody tr th {\n",
       "        vertical-align: top;\n",
       "    }\n",
       "\n",
       "    .dataframe thead th {\n",
       "        text-align: right;\n",
       "    }\n",
       "</style>\n",
       "<table border=\"1\" class=\"dataframe\">\n",
       "  <thead>\n",
       "    <tr style=\"text-align: right;\">\n",
       "      <th></th>\n",
       "      <th>passengers</th>\n",
       "      <th>shift12</th>\n",
       "      <th>diff12</th>\n",
       "    </tr>\n",
       "    <tr>\n",
       "      <th>year_month</th>\n",
       "      <th></th>\n",
       "      <th></th>\n",
       "      <th></th>\n",
       "    </tr>\n",
       "  </thead>\n",
       "  <tbody>\n",
       "    <tr>\n",
       "      <th>1957-06-01</th>\n",
       "      <td>422</td>\n",
       "      <td>374.0</td>\n",
       "      <td>48.0</td>\n",
       "    </tr>\n",
       "    <tr>\n",
       "      <th>1957-07-01</th>\n",
       "      <td>465</td>\n",
       "      <td>413.0</td>\n",
       "      <td>52.0</td>\n",
       "    </tr>\n",
       "    <tr>\n",
       "      <th>1957-08-01</th>\n",
       "      <td>467</td>\n",
       "      <td>405.0</td>\n",
       "      <td>62.0</td>\n",
       "    </tr>\n",
       "    <tr>\n",
       "      <th>1957-09-01</th>\n",
       "      <td>404</td>\n",
       "      <td>355.0</td>\n",
       "      <td>49.0</td>\n",
       "    </tr>\n",
       "    <tr>\n",
       "      <th>1957-10-01</th>\n",
       "      <td>347</td>\n",
       "      <td>306.0</td>\n",
       "      <td>41.0</td>\n",
       "    </tr>\n",
       "  </tbody>\n",
       "</table>\n",
       "</div>"
      ],
      "text/plain": [
       "            passengers  shift12  diff12\n",
       "year_month                             \n",
       "1957-06-01         422    374.0    48.0\n",
       "1957-07-01         465    413.0    52.0\n",
       "1957-08-01         467    405.0    62.0\n",
       "1957-09-01         404    355.0    49.0\n",
       "1957-10-01         347    306.0    41.0"
      ]
     },
     "execution_count": 69,
     "metadata": {},
     "output_type": "execute_result"
    }
   ],
   "source": [
    "test_data.head()"
   ]
  },
  {
   "cell_type": "code",
   "execution_count": 70,
   "id": "d04071c1-157c-4515-ba83-4a00b5ef0e42",
   "metadata": {},
   "outputs": [
    {
     "data": {
      "text/html": [
       "<div>\n",
       "<style scoped>\n",
       "    .dataframe tbody tr th:only-of-type {\n",
       "        vertical-align: middle;\n",
       "    }\n",
       "\n",
       "    .dataframe tbody tr th {\n",
       "        vertical-align: top;\n",
       "    }\n",
       "\n",
       "    .dataframe thead th {\n",
       "        text-align: right;\n",
       "    }\n",
       "</style>\n",
       "<table border=\"1\" class=\"dataframe\">\n",
       "  <thead>\n",
       "    <tr style=\"text-align: right;\">\n",
       "      <th></th>\n",
       "      <th>passengers</th>\n",
       "      <th>shift12</th>\n",
       "      <th>diff12</th>\n",
       "    </tr>\n",
       "    <tr>\n",
       "      <th>year_month</th>\n",
       "      <th></th>\n",
       "      <th></th>\n",
       "      <th></th>\n",
       "    </tr>\n",
       "  </thead>\n",
       "  <tbody>\n",
       "    <tr>\n",
       "      <th>1960-08-01</th>\n",
       "      <td>606</td>\n",
       "      <td>559.0</td>\n",
       "      <td>47.0</td>\n",
       "    </tr>\n",
       "    <tr>\n",
       "      <th>1960-09-01</th>\n",
       "      <td>508</td>\n",
       "      <td>463.0</td>\n",
       "      <td>45.0</td>\n",
       "    </tr>\n",
       "    <tr>\n",
       "      <th>1960-10-01</th>\n",
       "      <td>461</td>\n",
       "      <td>407.0</td>\n",
       "      <td>54.0</td>\n",
       "    </tr>\n",
       "    <tr>\n",
       "      <th>1960-11-01</th>\n",
       "      <td>390</td>\n",
       "      <td>362.0</td>\n",
       "      <td>28.0</td>\n",
       "    </tr>\n",
       "    <tr>\n",
       "      <th>1960-12-01</th>\n",
       "      <td>432</td>\n",
       "      <td>405.0</td>\n",
       "      <td>27.0</td>\n",
       "    </tr>\n",
       "  </tbody>\n",
       "</table>\n",
       "</div>"
      ],
      "text/plain": [
       "            passengers  shift12  diff12\n",
       "year_month                             \n",
       "1960-08-01         606    559.0    47.0\n",
       "1960-09-01         508    463.0    45.0\n",
       "1960-10-01         461    407.0    54.0\n",
       "1960-11-01         390    362.0    28.0\n",
       "1960-12-01         432    405.0    27.0"
      ]
     },
     "execution_count": 70,
     "metadata": {},
     "output_type": "execute_result"
    }
   ],
   "source": [
    "test_data.tail()"
   ]
  },
  {
   "cell_type": "code",
   "execution_count": 71,
   "id": "6c9b1559-da58-4fd0-bcc5-a71af1b49e66",
   "metadata": {},
   "outputs": [
    {
     "data": {
      "text/plain": [
       "43"
      ]
     },
     "execution_count": 71,
     "metadata": {},
     "output_type": "execute_result"
    }
   ],
   "source": [
    "len(test_data)"
   ]
  },
  {
   "cell_type": "markdown",
   "id": "8f1ca846-8e93-447e-953b-c61989de873d",
   "metadata": {},
   "source": [
    "#### Let's confirm that our training data plus test data equals 144 rows of data"
   ]
  },
  {
   "cell_type": "code",
   "execution_count": 72,
   "id": "2b9ff8fb-8170-453b-988d-4c6de244dd77",
   "metadata": {},
   "outputs": [],
   "source": [
    "assert len(training_data) + len(test_data) == 144"
   ]
  },
  {
   "cell_type": "markdown",
   "id": "8eb10ecb-5629-45fa-afe0-e4edf4b906dc",
   "metadata": {},
   "source": [
    "#### Now that we have our training and test data sets made, we can train our ARIMA model with the training data"
   ]
  },
  {
   "cell_type": "code",
   "execution_count": 73,
   "id": "d4fe99d0-bd55-420e-b4d7-5db58a67c952",
   "metadata": {},
   "outputs": [],
   "source": [
    "from statsmodels.tsa.arima.model import ARIMA\n",
    "from statsmodels.tsa.statespace.sarimax import SARIMAX"
   ]
  },
  {
   "cell_type": "code",
   "execution_count": null,
   "id": "9b47f1d8-2774-49c5-952e-bc5103466a09",
   "metadata": {},
   "outputs": [],
   "source": [
    "# order = (p, d, q)\n",
    "model_arima = SARIMAX(training_data['passengers'], order=(2, 1, 1), seasonal_order=(2,1,1,12)).fit()\n",
    "model_arima.summary()"
   ]
  },
  {
   "cell_type": "code",
   "execution_count": null,
   "id": "59da9c93-398f-4e5e-8130-b865008c2e04",
   "metadata": {},
   "outputs": [],
   "source": [
    "# order = (p, d, q)\n",
    "model_arima = SARIMAX(training_data['passengers'], order=(1, 1, 1), seasonal_order=(1,1,1,12)).fit()\n",
    "model_arima.summary()"
   ]
  },
  {
   "cell_type": "code",
   "execution_count": null,
   "id": "ad9a2b83-f9a7-4f32-9039-3124195cd529",
   "metadata": {},
   "outputs": [],
   "source": [
    "# order = (p, d, q)\n",
    "model_arima = SARIMAX(training_data['passengers'], order=(1, 1, 2), seasonal_order=(1,1,2,12)).fit()\n",
    "model_arima.summary()"
   ]
  },
  {
   "cell_type": "code",
   "execution_count": null,
   "id": "af5011eb-9380-42b9-a325-8b7e5d2b0d8d",
   "metadata": {},
   "outputs": [],
   "source": [
    "# order = (p, d, q)\n",
    "model_sarimax = SARIMAX(training_data['passengers'], order=(1, 1, 3), seasonal_order=(1,1,3,12)).fit()\n",
    "model_sarimax.summary()"
   ]
  }
 ],
 "metadata": {
  "kernelspec": {
   "display_name": "Py3.11 (eda_dev)",
   "language": "python",
   "name": "eda_dev"
  },
  "language_info": {
   "codemirror_mode": {
    "name": "ipython",
    "version": 3
   },
   "file_extension": ".py",
   "mimetype": "text/x-python",
   "name": "python",
   "nbconvert_exporter": "python",
   "pygments_lexer": "ipython3",
   "version": "3.11.5"
  }
 },
 "nbformat": 4,
 "nbformat_minor": 5
}
